{
 "cells": [
  {
   "cell_type": "markdown",
   "metadata": {},
   "source": [
    "# Cluster Analysis Using K-Means Clustering\n",
    "\n",
    "Clustering, in simple terms, is the act of taking similar data points and\n",
    "clumping them together to treat them as one. For example, say we had a data\n",
    "set that looked like this:\n",
    "```\n",
    "[apple, orange, corn, carrot]\n",
    "```\n",
    "Clustering this data set might intuitively result in something that looks like this:\n",
    "```\n",
    "{fruit: [apple, orange], vegetable: [corn, carrot]}\n",
    "```\n",
    "As can be seen, similar enough data points are grouped together and treated\n",
    "as one thing. In this example apples and oranges are simply seen as fruits,\n",
    "and corn and carrots are seen as vegetables. These larger generalizations\n",
    "are considered `centroids`, which are averages of the data points within a\n",
    "cluster, representing all values within the cluster.\n",
    "\n",
    "This type of assignment can be very powerful with making predictions, especially\n",
    "when considering weather related factors like wind speeds or solar irradiance.\n",
    "This is because areas close by one another would experience similar weather most\n",
    "of the time. Therefore, it is a good fit for this use case as the data is\n",
    "locational and weather-based.\n",
    "\n",
    "Reeling back a bit, when it comes to our data, we will be trying to identify\n",
    "clusters of locations that experience similar wind speeds in this notebook\n",
    "using K-Means clustering. The K-Means clustering algorithm from `scikit-learn`\n",
    "simply seeks to pick centroids that minimise `inertia` or how inherently\n",
    "coherent clusters are."
   ]
  },
  {
   "cell_type": "markdown",
   "metadata": {},
   "source": [
    "## Installing Dependencies and Importing Libraries\n",
    "\n",
    "Similar to before, we have to install and import some things to get started."
   ]
  },
  {
   "cell_type": "code",
   "execution_count": null,
   "metadata": {},
   "outputs": [],
   "source": [
    "! pip install matplotlib==\"3.8.0\""
   ]
  },
  {
   "cell_type": "code",
   "execution_count": null,
   "metadata": {},
   "outputs": [],
   "source": [
    "import pandas as pd\n",
    "import matplotlib.pyplot as plt\n",
    "from sklearn.cluster import KMeans"
   ]
  },
  {
   "cell_type": "markdown",
   "metadata": {},
   "source": [
    "## Performing K-Means Cluster Analysis on Wind Farm Data\n",
    "\n",
    "### Prepping the Data\n",
    "\n",
    "To start, we once again must load the data into a `pandas` data frame.\n",
    "Looking at the data frame allows us to see which columns we want to\n",
    "select to perform cluster analysis."
   ]
  },
  {
   "cell_type": "code",
   "execution_count": null,
   "metadata": {},
   "outputs": [],
   "source": [
    "df = pd.read_csv('../data/wind.csv')\n",
    "print(df)"
   ]
  },
  {
   "cell_type": "markdown",
   "metadata": {},
   "source": [
    "After looking at the data frame and considering our goal, we want to use\n",
    "`lat`, `long`, and one other factor that may be affected by location. Let's\n",
    "go with `wind_speed`. To use them, we use the `pandas` `loc` method to isolate\n",
    "columns that we want to work with from our data set."
   ]
  },
  {
   "cell_type": "code",
   "execution_count": null,
   "metadata": {},
   "outputs": [],
   "source": [
    "X = df.loc[:, df.columns[1:4]]\n",
    "print(X)"
   ]
  },
  {
   "cell_type": "markdown",
   "metadata": {},
   "source": [
    "### Finding an \"Optimal\" Number of Clusters\n",
    "\n",
    "When performing K-Means clustering, and some other forms of clustering,\n",
    "the number of clusters that the data will be split up into is\n",
    "manually input by the user. This brings along with it a looming question:\n",
    "How many clusters is sufficient? One way to figure this out is to\n",
    "create a bunch of models and score how effective more clusters are.\n",
    "To start, we must define the range of the number of clusters to use,\n",
    "and then create a bunch of models to represent those."
   ]
  },
  {
   "cell_type": "code",
   "execution_count": null,
   "metadata": {},
   "outputs": [],
   "source": [
    "K_clusters = range(1,100)\n",
    "\n",
    "kmeans = [KMeans(n_clusters=i, n_init='auto') for i in K_clusters]"
   ]
  },
  {
   "cell_type": "markdown",
   "metadata": {},
   "source": [
    "Now we want to use the columns from our data set to test\n",
    "for this effectiveness."
   ]
  },
  {
   "cell_type": "code",
   "execution_count": null,
   "metadata": {},
   "outputs": [],
   "source": [
    "Y_axis = X[['lat']]\n",
    "X_axis = X[['long']]"
   ]
  },
  {
   "cell_type": "markdown",
   "metadata": {},
   "source": [
    "Every cluster model made gets fit with the data from our data set and then gets scored.\n",
    "The score is an indicator of how effective the number of clusters used was towards modeling the data.\n",
    "A low value indicates little effectiveness, while a higher value, closer to zero, indicates more\n",
    "effectiveness."
   ]
  },
  {
   "cell_type": "code",
   "execution_count": null,
   "metadata": {},
   "outputs": [],
   "source": [
    "score = [kmeans[i].fit(Y_axis).score(Y_axis) for i in range(len(kmeans))]"
   ]
  },
  {
   "cell_type": "markdown",
   "metadata": {},
   "source": [
    "Once we have this list of scores, we can plot them to visualize the results.\n",
    "From the results, we will notice that it levels off, indicating diminishing returns.\n",
    "Using more clusters does not necessarily supply a more accurate prediction; there\n",
    "seems to be a sweet-spot. From the graph, it seems somewhere around 15-20 clusters\n",
    "yeilds the highest score when looking to minimize cluster count. As we will see,\n",
    "this method does not always give the correct number of clusters to use, as sometimes\n",
    "this can be subjective based on the data set."
   ]
  },
  {
   "cell_type": "code",
   "execution_count": null,
   "metadata": {},
   "outputs": [],
   "source": [
    "plt.plot(K_clusters, score)\n",
    "plt.xlabel('Number of Clusters')\n",
    "plt.ylabel('Score')\n",
    "plt.title('Elbow Curve')\n",
    "plt.show()"
   ]
  },
  {
   "cell_type": "markdown",
   "metadata": {},
   "source": [
    "### Clustering the Data\n",
    "\n",
    "With the number of clusters now obtained, we can begin clustering our data.\n",
    "To start, we will use the \"optimal\" 20 clusters, but we can always come back\n",
    "and change the `n_clusters` value to a different number to change the number\n",
    "of clusters to group our data into. the `init` value dictaes the method for initialization.\n",
    "Here we use `k-means++`, which selects centroids iteratively in a greedy fashion based\n",
    "on their contribution to `inertia`. `n_init` dictates how many times this algorithm is\n",
    "run with different centroid seeds, meaning different choices for initial centroids.\n",
    "\n",
    "We start by creating a model and fitting our data to said model."
   ]
  },
  {
   "cell_type": "code",
   "execution_count": null,
   "metadata": {},
   "outputs": [],
   "source": [
    "n_clusters = 20\n",
    "\n",
    "kmeans = KMeans(n_clusters, init='k-means++', n_init='auto')\n",
    "kmeans.fit(X[X.columns[0:2]])"
   ]
  },
  {
   "cell_type": "markdown",
   "metadata": {},
   "source": [
    "We can then perform predictions on this model as well. This is\n",
    "done using the `fit_predict` method, which does the same fitting\n",
    "as above, but also assigned labels to values in the same cluster.\n",
    "We store these values in a new column in our isolated data set\n",
    "labeled `cluster_label`, which can be seen below."
   ]
  },
  {
   "cell_type": "code",
   "execution_count": null,
   "metadata": {},
   "outputs": [],
   "source": [
    "X['cluster_label'] = kmeans.fit_predict(X[X.columns[0:2]])\n",
    "print(X.head(10))"
   ]
  },
  {
   "cell_type": "markdown",
   "metadata": {},
   "source": [
    "Now we can get the cluster centers, which are actually the centroids\n",
    "mentioned previously. These are the representative averages of each cluster.\n",
    "We also store the labels assigned above so that they can be used for\n",
    "plotting."
   ]
  },
  {
   "cell_type": "code",
   "execution_count": null,
   "metadata": {},
   "outputs": [],
   "source": [
    "centers = kmeans.cluster_centers_\n",
    "labels = kmeans.predict(X[X.columns[0:2]])"
   ]
  },
  {
   "cell_type": "markdown",
   "metadata": {},
   "source": [
    "Visualizing this model is quite intuitive. First the data points from our isolated\n",
    "data set are plotted, with the `cluster_label` giving each data point within a cluster\n",
    "its own color. Then, the centroids are plotted on top of this map of clusters, creating\n",
    "a comprehensive plot that showcases all clusters."
   ]
  },
  {
   "cell_type": "code",
   "execution_count": null,
   "metadata": {},
   "outputs": [],
   "source": [
    "X.plot.scatter(x = 'long', y = 'lat', c=labels, s=50, cmap='viridis')\n",
    "plt.scatter(centers[:, 1], centers[:, 0], c='black', s=200, alpha=0.5)\n",
    "plt.show()"
   ]
  },
  {
   "cell_type": "markdown",
   "metadata": {},
   "source": [
    "Looking at the plot, we can see that it is modelling the United States, albeit it is a bit rough,\n",
    "but it is a good sign nonetheless. But returning the the question of: How many clusters is enough?\n",
    "Does the \"optimal\" number of 20 clusters seem to make sense here? There are arguments for both yes\n",
    "no, but either way, this is where clustering becomes a bit tedious, as the only way to find out is\n",
    "to change the number of clusters used. So scroll back up and experiment with new values of `n_clusters`\n",
    "and see what you come up with."
   ]
  },
  {
   "cell_type": "markdown",
   "metadata": {},
   "source": [
    "### Saving the Clusters\n",
    "\n",
    "Once your experimentation is completed, if it is desired, one can save the output of the most recent cluster labeling.\n",
    "By running the cell below the saved data will be put into the `output` directory with the name `k_means_output.csv`."
   ]
  },
  {
   "cell_type": "code",
   "execution_count": null,
   "metadata": {},
   "outputs": [],
   "source": [
    "X.to_csv('../output/k_means_output.csv', index=None, header=True)"
   ]
  },
  {
   "cell_type": "markdown",
   "metadata": {},
   "source": [
    "## Next Steps\n",
    "\n",
    "The last notebook to look at examines the `solar.csv` data. In [bisecting_k_means.ipynb](./bisecting_k_means.ipynb)\n",
    "a similar cluster analysis is performed, but this time using different data, as well as a different method."
   ]
  }
 ],
 "metadata": {
  "kernelspec": {
   "display_name": "Python 3 (ipykernel)",
   "language": "python",
   "name": "python3"
  },
  "language_info": {
   "codemirror_mode": {
    "name": "ipython",
    "version": 3
   },
   "file_extension": ".py",
   "mimetype": "text/x-python",
   "name": "python",
   "nbconvert_exporter": "python",
   "pygments_lexer": "ipython3",
   "version": "3.11.5"
  }
 },
 "nbformat": 4,
 "nbformat_minor": 4
}
