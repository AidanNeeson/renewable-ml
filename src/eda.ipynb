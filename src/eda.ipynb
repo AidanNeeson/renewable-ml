{
 "cells": [
  {
   "cell_type": "code",
   "execution_count": 3,
   "metadata": {},
   "outputs": [],
   "source": [
    "from summarytools import dfSummary\n",
    "import pandas as pd"
   ]
  },
  {
   "cell_type": "code",
   "execution_count": 4,
   "metadata": {},
   "outputs": [
    {
     "data": {
      "text/html": [
       "<style type=\"text/css\">\n",
       "#T_92e27 thead>tr>th {\n",
       "  text-align: left;\n",
       "}\n",
       "#T_92e27_row0_col0, #T_92e27_row1_col0, #T_92e27_row2_col0, #T_92e27_row3_col0 {\n",
       "  text-align: left;\n",
       "  font-size: 12px;\n",
       "  vertical-align: middle;\n",
       "  width: 5%;\n",
       "  max-width: 50px;\n",
       "  min-width: 20px;\n",
       "}\n",
       "#T_92e27_row0_col1, #T_92e27_row1_col1, #T_92e27_row2_col1, #T_92e27_row3_col1 {\n",
       "  text-align: left;\n",
       "  font-size: 12px;\n",
       "  vertical-align: middle;\n",
       "  width: 15%;\n",
       "  max-width: 200px;\n",
       "  min-width: 100px;\n",
       "  word-break: break-word;\n",
       "}\n",
       "#T_92e27_row0_col2, #T_92e27_row1_col2, #T_92e27_row2_col2, #T_92e27_row3_col2 {\n",
       "  text-align: left;\n",
       "  font-size: 12px;\n",
       "  vertical-align: middle;\n",
       "  width: 30%;\n",
       "  min-width: 100px;\n",
       "}\n",
       "#T_92e27_row0_col3, #T_92e27_row1_col3, #T_92e27_row2_col3, #T_92e27_row3_col3 {\n",
       "  text-align: left;\n",
       "  font-size: 12px;\n",
       "  vertical-align: middle;\n",
       "  width: 25%;\n",
       "  min-width: 100px;\n",
       "}\n",
       "#T_92e27_row0_col4, #T_92e27_row1_col4, #T_92e27_row2_col4, #T_92e27_row3_col4 {\n",
       "  text-align: left;\n",
       "  font-size: 12px;\n",
       "  vertical-align: middle;\n",
       "  width: 20%;\n",
       "  min-width: 150px;\n",
       "}\n",
       "#T_92e27_row0_col5, #T_92e27_row1_col5, #T_92e27_row2_col5, #T_92e27_row3_col5 {\n",
       "  text-align: left;\n",
       "  font-size: 12px;\n",
       "  vertical-align: middle;\n",
       "  width: 10%;\n",
       "}\n",
       "</style>\n",
       "<table id=\"T_92e27\">\n",
       "  <caption><strong>Data Frame Summary</strong><br>df<br>Dimensions: 126,692 x 4<br>Duplicates: 0</caption>\n",
       "  <thead>\n",
       "    <tr>\n",
       "      <th id=\"T_92e27_level0_col0\" class=\"col_heading level0 col0\" >No</th>\n",
       "      <th id=\"T_92e27_level0_col1\" class=\"col_heading level0 col1\" >Variable</th>\n",
       "      <th id=\"T_92e27_level0_col2\" class=\"col_heading level0 col2\" >Stats / Values</th>\n",
       "      <th id=\"T_92e27_level0_col3\" class=\"col_heading level0 col3\" >Freqs / (% of Valid)</th>\n",
       "      <th id=\"T_92e27_level0_col4\" class=\"col_heading level0 col4\" >Graph</th>\n",
       "      <th id=\"T_92e27_level0_col5\" class=\"col_heading level0 col5\" >Missing</th>\n",
       "    </tr>\n",
       "  </thead>\n",
       "  <tbody>\n",
       "    <tr>\n",
       "      <td id=\"T_92e27_row0_col0\" class=\"data row0 col0\" >1</td>\n",
       "      <td id=\"T_92e27_row0_col1\" class=\"data row0 col1\" ><strong>lat</strong><br>[float64]</td>\n",
       "      <td id=\"T_92e27_row0_col2\" class=\"data row0 col2\" >Mean (sd) : 39.8 (5.0)<br>min < med < max:<br>20.3 < 40.9 < 49.0<br>IQR (CV) : 7.0 (7.9)</td>\n",
       "      <td id=\"T_92e27_row0_col3\" class=\"data row0 col3\" >118,029 distinct values</td>\n",
       "      <td id=\"T_92e27_row0_col4\" class=\"data row0 col4\" ><img src = \"data:image/png;base64, iVBORw0KGgoAAAANSUhEUgAAAKoAAABGCAYAAABc8A97AAAAOXRFWHRTb2Z0d2FyZQBNYXRwbG90bGliIHZlcnNpb24zLjguMCwgaHR0cHM6Ly9tYXRwbG90bGliLm9yZy81sbWrAAAACXBIWXMAAA9hAAAPYQGoP6dpAAACtElEQVR4nO3cQW7aQBSA4TclUBuQEUKFHReoxIIlh+hhe4QuOAHbrNghEDKCxsUYd1GlSqUUsMeW503+b50hXvwiscdvTJ7nArjuU9MXADziqekLQLWMMaGIdEouP+d5/lLl9VSFUD1ijAlHo9G3KIqGZdYfDoe9Mea7i7ESql86URQNF4vFy2AwSIosjOM4WC6Xw91u1xERQkX9BoNBMh6Pf5ZYGlZ+MRXhZgoqECpUIFSoQKhQgVChAqFCBUKFCoQKFQgVKhAqVCBUqECoUIFQoQKhQgVChQqEChUIFSoQKlRgFAV/ZVnWFpHIGFP2I2qbYiVUiIjI6XRqp2k6m06nrVarVWgw8FWdU6yEChEROZ/PT0EQdOfzeTKZTPZF19c9xUqo+Eev1ys7wSpS4xQrN1NQgVChAn/6a+Dr+U9NItSK+Xz+U5MItXrenv/UJEKtiY/nPzWJUB1juTsUXa/XdsWX5ARCdYjt7lCapkGWZV+TJPkhImWfhTqJUB1iuzu0Xq+Hq9Wqe7lcWnVcX5MI1UFld4f2+723/9/ywB8qECpUIFSoQKhQgVChAqFCBUKFCoQKFQgVKhAqVCBUqECoUIFQoQJvT6Eyli993xxqJFRUwval73tDjYT6HxYjz96Og9xi89L3I0ONhPoOm5Fnn8dBHmFxJNDNl74J9X2lR559HgdpEqHeUGbk2edxkCbxeAoqePuNann+04e8IXKZl6Hanv/00W+IXORlqGJxMyTCDZGLfA1VRMqf/8QNkXu4mYIKTn+jsjuEV86Gyu4Q3nI2VGF3CG+4HKqIsDuEP2oNlYfuqEptofLQHVW6G6oxJhCRzyU+O+r3+19ms9klDMNfRRdvt9vg+fm5G8dxb7PZnIusPR6PgYjI6XQKNptNt+jvtlnf1FrNvzuO4+Dez/wGKEt0b7Qh0Q4AAAAASUVORK5CYII=\"></img></td>\n",
       "      <td id=\"T_92e27_row0_col5\" class=\"data row0 col5\" >0<br>(0.0%)</td>\n",
       "    </tr>\n",
       "    <tr>\n",
       "      <td id=\"T_92e27_row1_col0\" class=\"data row1 col0\" >2</td>\n",
       "      <td id=\"T_92e27_row1_col1\" class=\"data row1 col1\" ><strong>long</strong><br>[float64]</td>\n",
       "      <td id=\"T_92e27_row1_col2\" class=\"data row1 col2\" >Mean (sd) : -96.9 (12.8)<br>min < med < max:<br>-125.8 < -98.2 < -63.8<br>IQR (CV) : 17.5 (-7.6)</td>\n",
       "      <td id=\"T_92e27_row1_col3\" class=\"data row1 col3\" >121,728 distinct values</td>\n",
       "      <td id=\"T_92e27_row1_col4\" class=\"data row1 col4\" ><img src = \"data:image/png;base64, iVBORw0KGgoAAAANSUhEUgAAAKoAAABGCAYAAABc8A97AAAAOXRFWHRTb2Z0d2FyZQBNYXRwbG90bGliIHZlcnNpb24zLjguMCwgaHR0cHM6Ly9tYXRwbG90bGliLm9yZy81sbWrAAAACXBIWXMAAA9hAAAPYQGoP6dpAAACtUlEQVR4nO3cP47aQBSA8TdhAfMnRogIOl8gUgpKN7lBDps23RZwAW5Ag5CQMcJZC2OcNsXuAvaYnef9fr1hik+s1/M8pigKAVz35aMXANzi6aMXUBdjTE9EOhU+4lQUxYut9aCaRoZqjOlNJpNfvu+Py37G4XCIjDG/idUNjQxVRDq+74/DMHwZjUbpvRfHcewtFovxbrfriAihOqCpoYqIyGg0SqfT6d8y1+Z57ouIb4wpczm3DZY1OtSykiRpZ1n2IwiCVqvVuvsXmdsG+wj1FafT6cnzvP58Pk9ns1l0z7XcNtSDUN8xGAzK3jr0rC/mk+M5KlQgVKhAqFCBUKECoUIFQoUKhAoVCBUqECpUIFSoQKhQgVChAqFCBUKFCoQKFQgVKhAqVCBUqECoUIFQoQIv9zmGo4heR6gO4SiitxGqWziK6A2E6qAqRxFJQ88UINQa5HnelnLnVvmXy6Vdw5LUI1TLqpxblWWZl+f59zRNn0Wk7C9qIxGqZVXOrVqv1+PVatU/n8+tutanFaHWpMy5VVEUNfL+0gYe+EMFQoUKhAoVCBUqECpUIFSoQKhQodbnqIyswZbaQrUxsrbf74/GmD8icu8kEXvmDVPnL2qlkbXNZvN1uVz+DILgG3vmj+HyX8Dat1DLjqxFUdRjz/xxXB/adn6vnz3z+1QZMRwOh9MwDA8uDm07HypuZ2PEsNvtPrs4tE2oDdLkEUNCbaAm3i7xwB8qECpUIFSoQKhQgVChAqFChauPpyrs/zIYAmveDbXK/i+DIbDp2i9q6Qko13c6oMtNO1NlJqBc3+mALvwzBRUIFSoQKlQgVKjAmB+sqfB2gciV960IFVZUebtA5Pr7VoQKK6q8XXDL+1Y3hRrHsXfPF4uIHI9HT0QkSRJvu932H3m91u/Wuu7/r6/LP7JTmii3o1+eAAAAAElFTkSuQmCC\"></img></td>\n",
       "      <td id=\"T_92e27_row1_col5\" class=\"data row1 col5\" >0<br>(0.0%)</td>\n",
       "    </tr>\n",
       "    <tr>\n",
       "      <td id=\"T_92e27_row2_col0\" class=\"data row2 col0\" >3</td>\n",
       "      <td id=\"T_92e27_row2_col1\" class=\"data row2 col1\" ><strong>wind_speed</strong><br>[float64]</td>\n",
       "      <td id=\"T_92e27_row2_col2\" class=\"data row2 col2\" >Mean (sd) : 7.6 (1.0)<br>min < med < max:<br>2.3 < 7.6 < 12.8<br>IQR (CV) : 1.2 (7.4)</td>\n",
       "      <td id=\"T_92e27_row2_col3\" class=\"data row2 col3\" >886 distinct values</td>\n",
       "      <td id=\"T_92e27_row2_col4\" class=\"data row2 col4\" ><img src = \"data:image/png;base64, iVBORw0KGgoAAAANSUhEUgAAAKoAAABGCAYAAABc8A97AAAAOXRFWHRTb2Z0d2FyZQBNYXRwbG90bGliIHZlcnNpb24zLjguMCwgaHR0cHM6Ly9tYXRwbG90bGliLm9yZy81sbWrAAAACXBIWXMAAA9hAAAPYQGoP6dpAAACrElEQVR4nO3dsW7aUBSH8XNKQh1S2YJUZMsLVOqQMXvXPmzWbkVi6MwbsEWxHFtQKIS4U6tUSppybWr/ne+3H3SHT4rgHuV6WZYGtN2bpg8A/Iujpg/QRe5+Ymb9wPFNWZarOs/TBYRaM3c/OTs7+xzH8TBkviiKzN2vifVPhFq/fhzHw6urq1WSJOt9BvM8j6bT6TBN076ZEeojhHogSZKsx+Px94DRk9oP0wF8mYIEQoUEQoUEQoUEQoUEQoUEQoUEQoUEQoUEbqaeUWGxJH54eDiu+zyvHaE+ocpiyXa7jXa73Yf1ev3VzEKuUPEEQn1a8GLJfD4fzmazwf39fe9Qh3uNCPUvQhZLsixjqeQA+DIFCYQKCYQKCYQKCYQKCYQKCYQKCYQKCYQKCYQKCYQKCYQKCYQKCYQKCYQKCYQKCYQKCYQKCYQKCYQKCYQKCYQKCYQKCYQKCYQKCYQKCYQKCYQKCYQKCYQKCYQKCYQKCYQKCfzH6ZbZ7XbHZha7e+hHbMqyXNV4pFbobKgVXjUxa+hlk+Vyebzdbj9eXFz0er3eXm8H/FIURebu112LtZOhVnnVxKy5l002m81RFEWDy8vL9fn5ebbvfJ7n0XQ6HaZp2jczQhUQ/KqJWfMvm5yenu79yMUjnXzsoquhmlnYqyZmvGzSRnzrhwRChQRChQRChQRChQRChQRChQRChYRW/+Bf4b6+kbt6HE5rQ61yX9/UXX0bVNy+au3mVWtDtQr39U3f1Tel6vZVmzevDhpqHat2SZJk+97Xv9a7+irbV3meR5PJZJym6Xt3L0KPcKjIXwzV3SMzexvw2dFoNPqUJMm7gNnff75vb2+/7Tu7WCwiM7Plchnd3NwM/ud8U7OP50OsVqvKu7B3d3cLd/9iZiHzP8qyfHbuJ2/BFuIq0X8EAAAAAElFTkSuQmCC\"></img></td>\n",
       "      <td id=\"T_92e27_row2_col5\" class=\"data row2 col5\" >0<br>(0.0%)</td>\n",
       "    </tr>\n",
       "    <tr>\n",
       "      <td id=\"T_92e27_row3_col0\" class=\"data row3 col0\" >4</td>\n",
       "      <td id=\"T_92e27_row3_col1\" class=\"data row3 col1\" ><strong>farm_type</strong><br>[object]</td>\n",
       "      <td id=\"T_92e27_row3_col2\" class=\"data row3 col2\" >1. onshore<br>2. offshore</td>\n",
       "      <td id=\"T_92e27_row3_col3\" class=\"data row3 col3\" >112,471 (88.8%)<br>14,221 (11.2%)</td>\n",
       "      <td id=\"T_92e27_row3_col4\" class=\"data row3 col4\" ><img src = \"data:image/png;base64, iVBORw0KGgoAAAANSUhEUgAAAJsAAAAuCAYAAAA/ZmtKAAAAOXRFWHRTb2Z0d2FyZQBNYXRwbG90bGliIHZlcnNpb24zLjguMCwgaHR0cHM6Ly9tYXRwbG90bGliLm9yZy81sbWrAAAACXBIWXMAAA9hAAAPYQGoP6dpAAABOElEQVR4nO3bwYnDMBRF0a/BhGQjYQwuxkVMsVOEujHGWiQhG2WRAmJGn5cg7inA/MXFkOAXaq0GKAQzu5jZ6dOH4Os9aq23lgcM0zT9xhhHr4vQp1LKFkL4awluiDGOy7LcUkp3z+PQj33fzznncV3Xk5n9PzYzs5TSfZ7nq9t16NGl9QE/HlcARxAbZIgNMsQGGWKDDLFBhtggQ2yQITbIEBtkiA0yxAYZYoMMsUGG2CAzmL0+jvv0IfheXn0MpZQt5zyaw8dx6FcpZTOzR8szGLzgqObBS2DKBxWvN1tz9eify5TPY+aF/jVP+bxmXuif15SPX7J4iz91IUNskCE2yBAbZIgNMsQGGWKDDLFBhtggQ2yQITbIEBtkiA0yxAYZYoNM85SPGSCOcpnyecy80D8GL5B5Agpbat96LJCVAAAAAElFTkSuQmCC\"></img></td>\n",
       "      <td id=\"T_92e27_row3_col5\" class=\"data row3 col5\" >0<br>(0.0%)</td>\n",
       "    </tr>\n",
       "  </tbody>\n",
       "</table>\n"
      ],
      "text/plain": [
       "<pandas.io.formats.style.Styler at 0x1e2f101f5d0>"
      ]
     },
     "execution_count": 4,
     "metadata": {},
     "output_type": "execute_result"
    }
   ],
   "source": [
    "df = pd.read_csv('../data/wind_speeds.csv')\n",
    "dfSummary(df)"
   ]
  },
  {
   "cell_type": "code",
   "execution_count": null,
   "metadata": {},
   "outputs": [],
   "source": []
  }
 ],
 "metadata": {
  "kernelspec": {
   "display_name": "Python 3 (ipykernel)",
   "language": "python",
   "name": "python3"
  },
  "language_info": {
   "codemirror_mode": {
    "name": "ipython",
    "version": 3
   },
   "file_extension": ".py",
   "mimetype": "text/x-python",
   "name": "python",
   "nbconvert_exporter": "python",
   "pygments_lexer": "ipython3",
   "version": "3.11.5"
  }
 },
 "nbformat": 4,
 "nbformat_minor": 4
}
