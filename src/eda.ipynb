{
 "cells": [
  {
   "cell_type": "markdown",
   "metadata": {},
   "source": [
    "# Exploratory Data Analysis\n",
    "\n",
    "One of the most important steps when performing any kind of analysis on large\n",
    "sets of data is to validate the data. A simple and effective way of doing this\n",
    "is by performing Exploratory Data Analysis (EDA). This consists of a wide range of\n",
    "things from examining the set for missing data points or gathering some\n",
    "statistical measures from the dataset, like the mean, standard deviation, and\n",
    "variance. This can be done manually, but using Python packages like `summarytools`\n",
    "and `ydata_profiling` streamline this process and give on-demand EDA. Using\n",
    "multiple tools for EDA helps to verify the data even further by allowing for\n",
    "crossreferencing outputs to ensure validity. In the cells below, this fast\n",
    "and easy process can be explored yourself through the power of Jupyter Notebooks."
   ]
  },
  {
   "cell_type": "markdown",
   "metadata": {},
   "source": [
    "## Installing Dependencies and Importing Libraries\n",
    "\n",
    "Before performing any analysis, the necessary dependencies and libraries must be\n",
    "obtained, matplotlib is a tricky one, as different versions are needed for\n",
    "different processes in other notebooks, so we will have to install this one\n",
    "manually. Each cell can be ran with `Shift+Enter` or by hitting the \"play\"\n",
    "symbol in the toolbar."
   ]
  },
  {
   "cell_type": "code",
   "execution_count": null,
   "metadata": {},
   "outputs": [],
   "source": [
    "! pip install matplotlib==\"3.6.0\""
   ]
  },
  {
   "cell_type": "markdown",
   "metadata": {},
   "source": [
    "Notice we are also importing `pandas`, another very useful library that\n",
    "helps with managing our data and storing them into data frames."
   ]
  },
  {
   "cell_type": "code",
   "execution_count": 2,
   "metadata": {},
   "outputs": [],
   "source": [
    "from summarytools import dfSummary\n",
    "from ydata_profiling import ProfileReport\n",
    "import pandas as pd"
   ]
  },
  {
   "cell_type": "markdown",
   "metadata": {},
   "source": [
    "## Performing EDA with Summarytools\n",
    "\n",
    "`Summarytools` is a package that allows for very fast, but simple EDA. It\n",
    "generates a report very quickly, as the cost of less interactivity and\n",
    "robustness. This does not make it useless however, as it still provides\n",
    "valuable insights into properties of statistical distributions, as well\n",
    "as some simple visualizations to help put the data into perspective.\n",
    "\n",
    "The first step requires reading in the data into a `pandas` data frame.\n",
    "Here, we make two, one for the wind data, and another for the solar data."
   ]
  },
  {
   "cell_type": "code",
   "execution_count": 4,
   "metadata": {},
   "outputs": [],
   "source": [
    "wind_farm_data = pd.read_csv('../data/wind.csv')\n",
    "solar_farm_data = pd.read_csv('../data/solar.csv')"
   ]
  },
  {
   "cell_type": "markdown",
   "metadata": {},
   "source": [
    "Now that it is loaded in, the wind farm data can be analized\n",
    "using `summarytools`."
   ]
  },
  {
   "cell_type": "code",
   "execution_count": null,
   "metadata": {},
   "outputs": [],
   "source": [
    "dfSummary(wind_farm_data)"
   ]
  },
  {
   "cell_type": "markdown",
   "metadata": {},
   "source": [
    "Same goes for the solar farm data."
   ]
  },
  {
   "cell_type": "code",
   "execution_count": null,
   "metadata": {},
   "outputs": [],
   "source": [
    "dfSummary(solar_farm_data)"
   ]
  },
  {
   "cell_type": "markdown",
   "metadata": {},
   "source": [
    "## Performing EDA with YData Profiling\n",
    "\n",
    "`YData Profiling` is somewhat of an opposite to `summarytools` in that it\n",
    "generates a very robust report with many visualizations, at the cost of\n",
    "a slower generation speed. This trade-off is okay in this case, however, as\n",
    "its the EDA that means the most.\n",
    "\n",
    "Here, we are using the `pandas` data frames from earlier and generating\n",
    "a profile report for both the wind data and the solar data."
   ]
  },
  {
   "cell_type": "code",
   "execution_count": 7,
   "metadata": {},
   "outputs": [],
   "source": [
    "wind_profile = ProfileReport(wind_farm_data, title=\"Wind Farm DataReport\")\n",
    "solar_profile = ProfileReport(solar_farm_data, title=\"Solar Farm DataReport\")"
   ]
  },
  {
   "cell_type": "markdown",
   "metadata": {},
   "source": [
    "Now that the wind report is generated, we can display it in an interactive widget\n",
    "using some features of `ydata_profiling's` library. It allows for creating and\n",
    "twekaing graphs and tables. Give it a try and explore the data before moving on."
   ]
  },
  {
   "cell_type": "code",
   "execution_count": null,
   "metadata": {},
   "outputs": [],
   "source": [
    "wind_profile.to_notebook_iframe()"
   ]
  },
  {
   "cell_type": "markdown",
   "metadata": {},
   "source": [
    "Same goes for the solar data."
   ]
  },
  {
   "cell_type": "code",
   "execution_count": null,
   "metadata": {},
   "outputs": [],
   "source": [
    "solar_profile.to_notebook_iframe()"
   ]
  },
  {
   "cell_type": "markdown",
   "metadata": {},
   "source": [
    "## Next Steps\n",
    "\n",
    "Now that all of the data has been explored and verified, its time to start\n",
    "using it. To do this, we will use the `scikit-learn` Python package to\n",
    "perform some modeling and predictions. In [k_means.ipynb](./k_means.ipynb), we take a look at how\n",
    "we can model some attributes of our data sets using clusters and make\n",
    "predictions based on that model."
   ]
  }
 ],
 "metadata": {
  "kernelspec": {
   "display_name": "Python 3 (ipykernel)",
   "language": "python",
   "name": "python3"
  },
  "language_info": {
   "codemirror_mode": {
    "name": "ipython",
    "version": 3
   },
   "file_extension": ".py",
   "mimetype": "text/x-python",
   "name": "python",
   "nbconvert_exporter": "python",
   "pygments_lexer": "ipython3",
   "version": "3.11.5"
  }
 },
 "nbformat": 4,
 "nbformat_minor": 4
}
