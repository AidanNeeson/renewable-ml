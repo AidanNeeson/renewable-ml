{
 "cells": [
  {
   "cell_type": "code",
   "execution_count": null,
   "metadata": {},
   "outputs": [],
   "source": [
    "import pandas as pd\n",
    "import numpy as np\n",
    "import matplotlib.pyplot as plt\n",
    "from sklearn.cluster import BisectingKMeans\n",
    "import csv\n",
    "\n",
    "df = pd.read_csv('../data/wind_speeds.csv')\n",
    "print(df.dtypes)\n",
    "X = df.loc[:, df.columns != 'farm_type']\n",
    "print(X)\n",
    "print()\n",
    "print('--------------------------------------------------------------------------------')\n",
    "print()\n",
    "\n",
    "bkmeans = BisectingKMeans(n_clusters = 100, init='k-means++')\n",
    "\n",
    "bkmeans.fit(X[X.columns[0:2]])\n",
    "\n",
    "X['cluster_label'] = bkmeans.fit_predict(X[X.columns[0:2]])\n",
    "\n",
    "centers = bkmeans.cluster_centers_\n",
    "\n",
    "labels = bkmeans.predict(X[X.columns[0:2]])\n",
    "\n",
    "print(X.head(10))\n",
    "\n",
    "X.to_csv('../data/cluster_output.csv', index=None, header=True)\n",
    "\n",
    "X.plot.scatter(x = 'lat', y = 'long', c=labels, s=50, cmap='viridis')\n",
    "\n",
    "plt.scatter(centers[:, 0], centers[:, 1], c='black', s=200, alpha=0.5)\n",
    "plt.show()"
   ]
  }
 ],
 "metadata": {
  "language_info": {
   "name": "python"
  },
  "orig_nbformat": 4
 },
 "nbformat": 4,
 "nbformat_minor": 2
}
