{
 "cells": [
  {
   "cell_type": "code",
   "execution_count": null,
   "metadata": {},
   "outputs": [],
   "source": [
    "import numpy as np\n",
    "import matplotlib.pyplot as plt\n",
    "import pandas as pd\n",
    "from sklearn import linear_model\n",
    "from sklearn.metrics import mean_squared_error, r2_score\n",
    "\n",
    "# Load the wind dataset\n",
    "wind_speeds = pd.read_csv('../data/wind_speeds.csv')\n",
    "\n",
    "# Format locational wind speed data and split into training and testing\n",
    "wind_speeds_X = list(zip(wind_speeds.lat, wind_speeds.long))\n",
    "wind_speeds_X_train = wind_speeds_X[:500]\n",
    "wind_speeds_X_test = wind_speeds_X[500:550]\n",
    "\n",
    "# Split the targets into training/testing sets\n",
    "wind_speeds_Y = wind_speeds['wind_speed']\n",
    "wind_speeds_Y_train = wind_speeds_Y[:500]\n",
    "wind_speeds_Y_test = wind_speeds_Y[500:550]\n",
    "\n",
    "# Create linear regression object\n",
    "regr = linear_model.LinearRegression()\n",
    "\n",
    "# Train the model using the training sets\n",
    "regr.fit(wind_speeds_X_train, wind_speeds_Y_train)\n",
    "\n",
    "# Make predictions using the testing set\n",
    "wind_speeds_Y_pred = regr.predict(wind_speeds_X_test)\n",
    "\n",
    "# The coefficients\n",
    "print(\"Coefficients: \\n\", regr.coef_)\n",
    "# The mean squared error\n",
    "print(\"Mean squared error: %.2f\" % mean_squared_error(wind_speeds_Y_test, wind_speeds_Y_pred))\n",
    "# The coefficient of determination: 1 is perfect prediction\n",
    "print(\"Coefficient of determination: %.2f\" % r2_score(wind_speeds_Y_test, wind_speeds_Y_pred))\n",
    "\n",
    "# Plot outputs\n",
    "plt.scatter([str(i) for i in wind_speeds_X_test], wind_speeds_Y_test, color=\"black\")\n",
    "plt.plot(wind_speeds_X_test, wind_speeds_Y_pred, color=\"blue\", linewidth=3)\n",
    "\n",
    "plt.xticks(())\n",
    "plt.yticks(())\n",
    "\n",
    "plt.show()"
   ]
  }
 ],
 "metadata": {
  "language_info": {
   "name": "python"
  },
  "orig_nbformat": 4
 },
 "nbformat": 4,
 "nbformat_minor": 2
}
