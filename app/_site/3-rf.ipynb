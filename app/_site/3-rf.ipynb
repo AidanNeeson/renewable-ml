{
 "cells": [
  {
   "cell_type": "raw",
   "metadata": {},
   "source": [
    "---\n",
    "title: \"Random Forest Regression Analysis\"\n",
    "---"
   ]
  },
  {
   "cell_type": "markdown",
   "metadata": {},
   "source": [
    "## Imports"
   ]
  },
  {
   "cell_type": "code",
   "execution_count": 2,
   "metadata": {},
   "outputs": [],
   "source": [
    "import pandas as pd\n",
    "from sklearn.ensemble import RandomForestRegressor\n",
    "from sklearn.preprocessing import StandardScaler"
   ]
  },
  {
   "cell_type": "markdown",
   "metadata": {},
   "source": [
    "## Prep the Data\n",
    "\n",
    "First, we read in the datasets."
   ]
  },
  {
   "cell_type": "code",
   "execution_count": 3,
   "metadata": {},
   "outputs": [
    {
     "name": "stdout",
     "output_type": "stream",
     "text": [
      "Previews of the datasets:\n",
      "   id        lat        long  wind_speed farm_type  capacity  capacity_factor  \\\n",
      "0   0  23.510410 -117.147260        6.07  offshore        16            0.169   \n",
      "1   1  24.007446  -93.946777        7.43  offshore        16            0.302   \n",
      "2   2  25.069138  -97.482483        8.19  offshore        16            0.375   \n",
      "3   3  25.069443  -97.463135        8.19  offshore        16            0.375   \n",
      "4   4  25.069763  -97.443756        8.19  offshore        16            0.376   \n",
      "5   5  25.070091  -97.424377        8.19  offshore        16            0.375   \n",
      "6   6  25.070404  -97.404999        8.19  offshore        16            0.375   \n",
      "7   7  25.086678  -97.482849        8.18  offshore        16            0.375   \n",
      "8   8  25.087006  -97.463470        8.19  offshore        16            0.376   \n",
      "9   9  25.087318  -97.444092        8.19  offshore        16            0.376   \n",
      "\n",
      "   power_generation  estimated_cost  \n",
      "0          23687.04        20800000  \n",
      "1          42328.32        20800000  \n",
      "2          52560.00        20800000  \n",
      "3          52560.00        20800000  \n",
      "4          52700.16        20800000  \n",
      "5          52560.00        20800000  \n",
      "6          52560.00        20800000  \n",
      "7          52560.00        20800000  \n",
      "8          52700.16        20800000  \n",
      "9          52700.16        20800000  \n",
      "_________________________________\n",
      "   id        lat       long  irradiance          farm_type  capacity  \\\n",
      "0   0  25.896492 -97.460358    5.634079    large_community     5.000   \n",
      "1   1  26.032654 -97.738098    5.616413      small_utility     5.000   \n",
      "2   2  26.059063 -97.208252    5.746738    small_community     0.150   \n",
      "3   3  26.078449 -98.073364    5.742196      small_utility     5.000   \n",
      "4   4  26.143227 -98.311340    5.817187      small_utility     5.000   \n",
      "5   5  26.149040 -98.075409    5.701752    large_community     5.000   \n",
      "6   6  26.180355 -97.367737    5.720004     medium_utility   500.000   \n",
      "7   7  26.254963 -98.078491    5.730308  small_residential     0.005   \n",
      "8   8  26.272160 -98.098694    5.734213      large_utility  2000.000   \n",
      "9   9  26.272625 -98.078979    5.755140    small_community     0.150   \n",
      "\n",
      "   capacity_factor  power_generation  estimated_cost  \n",
      "0            0.235      1.028219e+04        13300000  \n",
      "1            0.234      1.024995e+04        13300000  \n",
      "2            0.239      3.146339e+02          399000  \n",
      "3            0.239      1.047951e+04        13300000  \n",
      "4            0.242      1.061637e+04        13300000  \n",
      "5            0.238      1.040570e+04        13300000  \n",
      "6            0.238      1.043901e+06      1330000000  \n",
      "7            0.239      1.045781e+01           13300  \n",
      "8            0.239      4.185975e+06      5320000000  \n",
      "9            0.240      3.150939e+02          399000  \n"
     ]
    }
   ],
   "source": [
    "#| label: raw-dataset-preview\n",
    "wind_df = pd.read_csv(\"../data/wind.csv\")\n",
    "solar_df = pd.read_csv(\"../data/solar.csv\")\n",
    "\n",
    "print(\"Previews of the datasets:\")\n",
    "print(wind_df.head(10))\n",
    "print(\"_________________________________\")\n",
    "print(solar_df.head(10))"
   ]
  },
  {
   "cell_type": "markdown",
   "metadata": {},
   "source": [
    "Now, we must shuffle the datasets to reduce bias."
   ]
  },
  {
   "cell_type": "code",
   "execution_count": 4,
   "metadata": {},
   "outputs": [
    {
     "name": "stdout",
     "output_type": "stream",
     "text": [
      "Previews of the shuffled datasets:\n",
      "            id        lat        long  wind_speed farm_type  capacity  \\\n",
      "68627    68627  41.921593  -92.838684        7.59   onshore        16   \n",
      "25972    25972  36.406723  -99.578583        8.07   onshore        16   \n",
      "117318  117318  44.622005  -70.790405        7.73   onshore        10   \n",
      "48875    48875  39.382561  -83.549896        6.85   onshore        16   \n",
      "69534    69534  41.455593 -107.204559       10.09   onshore        16   \n",
      "81785    81785  43.028027 -100.520996        8.15   onshore        16   \n",
      "65898    65898  41.775879  -94.841034        8.03   onshore        16   \n",
      "15177    15177  34.647572  -94.876343        8.65   onshore        14   \n",
      "41287    41287  36.667110  -75.807404        8.17  offshore        16   \n",
      "38991    38991  35.806236 -117.794632        5.85   onshore        16   \n",
      "\n",
      "        capacity_factor  power_generation  estimated_cost  \n",
      "68627             0.420          58867.20        20800000  \n",
      "25972             0.445          62371.20        20800000  \n",
      "117318            0.418          36616.80        13000000  \n",
      "48875             0.388          54382.08        20800000  \n",
      "69534             0.489          68538.24        20800000  \n",
      "81785             0.453          63492.48        20800000  \n",
      "65898             0.458          64193.28        20800000  \n",
      "15177             0.479          58744.56        18200000  \n",
      "41287             0.384          53821.44        20800000  \n",
      "38991             0.276          38684.16        20800000  \n",
      "_________________________________\n",
      "          id        lat        long  irradiance           farm_type  capacity  \\\n",
      "9338    9338  36.022804  -93.761475    5.272909     large_community     5.000   \n",
      "10150  10150  40.978394  -86.422150    4.709095     small_community     0.150   \n",
      "9327    9327  36.035870  -94.443054    5.324147       small_utility     5.000   \n",
      "5074    5074  33.166306 -116.199585    6.884232     large_community     5.000   \n",
      "10719  10719  43.046040  -82.736023    4.443865    medium_community     2.000   \n",
      "6317    6317  35.270199 -102.397247    6.360666   large_residential     0.015   \n",
      "3551    3551  34.542427 -101.368805    6.228834     large_community     5.000   \n",
      "3554    3554  34.546082 -101.302307    6.235395      medium_utility   500.000   \n",
      "9560    9560  34.443386 -117.679779    6.854829  medium_residential     0.010   \n",
      "4730    4730  34.796165 -105.308975    6.498895  medium_residential     0.010   \n",
      "\n",
      "       capacity_factor  power_generation  estimated_cost  \n",
      "9338             0.220      9.623058e+03        13300000  \n",
      "10150            0.196      2.578229e+02          399000  \n",
      "9327             0.222      9.716568e+03        13300000  \n",
      "5074             0.287      1.256372e+04        13300000  \n",
      "10719            0.185      3.244022e+03         5320000  \n",
      "6317             0.265      3.482465e+01           39900  \n",
      "3551             0.260      1.136762e+04        13300000  \n",
      "3554             0.260      1.137960e+06      1330000000  \n",
      "9560             0.286      2.502013e+01           26600  \n",
      "4730             0.271      2.372097e+01           26600  \n"
     ]
    }
   ],
   "source": [
    "wind_df = wind_df.sample(frac=1)\n",
    "solar_df = solar_df.sample(frac=1)\n",
    "\n",
    "print(\"Previews of the shuffled datasets:\")\n",
    "print(wind_df.head(10))\n",
    "print(\"_________________________________\")\n",
    "print(solar_df.head(10))"
   ]
  },
  {
   "cell_type": "markdown",
   "metadata": {},
   "source": [
    "Looking at each dataset, we can identify which variables we want to use for our models."
   ]
  },
  {
   "cell_type": "code",
   "execution_count": 5,
   "metadata": {},
   "outputs": [],
   "source": [
    "# Wind data\n",
    "wind_X = wind_df.loc[:, [False, True, True, True, False, True, True, False, False]]\n",
    "wind_y = wind_df.loc[:, [False, False, False, False, False, False, False, True, True]]\n",
    "\n",
    "# Solar data\n",
    "solar_X = solar_df.loc[:, [False, True, True, True, False, True, True, False, False]]\n",
    "solar_y = solar_df.loc[:, [False, False, False, False, False, False, False, True, True]]"
   ]
  },
  {
   "cell_type": "markdown",
   "metadata": {},
   "source": [
    "Now we split into training and testing sets, reserving about 80% for training and 20% for testing."
   ]
  },
  {
   "cell_type": "code",
   "execution_count": 6,
   "metadata": {},
   "outputs": [],
   "source": [
    "# Wind data\n",
    "wind_X_train = wind_X[:100000]\n",
    "wind_X_test = wind_X[100000:]\n",
    "wind_y_train = wind_y[:100000]\n",
    "wind_y_test = wind_y[100000:]\n",
    "\n",
    "# Solar data\n",
    "solar_X_train = solar_X[:9500]\n",
    "solar_X_test = solar_X[9500:]\n",
    "solar_y_train = solar_y[:9500]\n",
    "solar_y_test = solar_y[9500:]"
   ]
  },
  {
   "cell_type": "markdown",
   "metadata": {},
   "source": [
    "Some models perform better when inputs are within a certain range, like [-1, 1] for example. We scale the data points appropriately."
   ]
  },
  {
   "cell_type": "code",
   "execution_count": 7,
   "metadata": {},
   "outputs": [],
   "source": [
    "scaler = StandardScaler()\n",
    "\n",
    "# Wind data\n",
    "scaler.fit(wind_X_train)\n",
    "wind_X_train = scaler.transform(wind_X_train)\n",
    "wind_X_test = scaler.transform(wind_X_test)\n",
    "\n",
    "# Solar data\n",
    "scaler.fit(solar_X_train)\n",
    "solar_X_train = scaler.transform(solar_X_train)\n",
    "solar_X_test = scaler.transform(solar_X_test)"
   ]
  },
  {
   "cell_type": "markdown",
   "metadata": {},
   "source": [
    "## Training the Models\n",
    "\n",
    "Now that the data is pre-processed accordingly, the models can be trained and fit. Here, we set `random state` to zero to ensure consistency between both data sets, and re-runs of the training and fitting."
   ]
  },
  {
   "cell_type": "code",
   "execution_count": null,
   "metadata": {},
   "outputs": [],
   "source": [
    "# Wind regression\n",
    "wind_reg = RandomForestRegressor(random_state=0)\n",
    "wind_reg.fit(wind_X_train, wind_y_train)\n",
    "\n",
    "# Solar regression\n",
    "solar_reg = RandomForestRegressor(random_state=0)\n",
    "solar_reg.fit(solar_X_train, solar_y_train)"
   ]
  },
  {
   "cell_type": "markdown",
   "metadata": {},
   "source": [
    "## Testing the Models\n",
    "\n",
    "With trained models, we can now test them and make predictions."
   ]
  },
  {
   "cell_type": "code",
   "execution_count": 9,
   "metadata": {},
   "outputs": [
    {
     "name": "stdout",
     "output_type": "stream",
     "text": [
      "Predicted outputs for wind data:\n",
      "[[   36161.28   20800000.    ]\n",
      " [   58586.88   20800000.    ]\n",
      " [   76248.4416 20800000.    ]\n",
      " ...\n",
      " [   38684.16   15600000.    ]\n",
      " [   66996.48   20800000.    ]\n",
      " [   60829.44   20800000.    ]]\n",
      "\n",
      "Predicted outputs for solar data:\n",
      "[[1.01526034e+01 1.33000000e+04]\n",
      " [9.62149950e+03 1.33000000e+07]\n",
      " [1.18088103e+01 1.33000000e+04]\n",
      " ...\n",
      " [2.29657039e+01 2.66000000e+04]\n",
      " [1.16820008e+04 1.33000000e+07]\n",
      " [2.68208152e+02 3.99000000e+05]]\n"
     ]
    }
   ],
   "source": [
    "# Wind\n",
    "wind_test = wind_reg.predict(wind_X_test)\n",
    "print(\"Predicted outputs for wind data:\")\n",
    "print(wind_test)\n",
    "print()\n",
    "\n",
    "# Solar\n",
    "solar_test = solar_reg.predict(solar_X_test)\n",
    "print(\"Predicted outputs for solar data:\")\n",
    "print(solar_test)"
   ]
  }
 ],
 "metadata": {
  "kernelspec": {
   "display_name": "Python 3 (ipykernel)",
   "language": "python",
   "name": "python3"
  },
  "language_info": {
   "codemirror_mode": {
    "name": "ipython",
    "version": 3
   },
   "file_extension": ".py",
   "mimetype": "text/x-python",
   "name": "python",
   "nbconvert_exporter": "python",
   "pygments_lexer": "ipython3",
   "version": "3.11.5"
  }
 },
 "nbformat": 4,
 "nbformat_minor": 4
}
