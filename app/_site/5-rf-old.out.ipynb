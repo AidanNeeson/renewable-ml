{
  "cells": [
    {
      "cell_type": "markdown",
      "metadata": {},
      "source": [
        "# Old Random Forest Model\n",
        "\n",
        "# Imports, Preprocessing, and Training"
      ],
      "id": "4ed3d5a4-53e7-4d03-9eb1-7895257c6968"
    },
    {
      "cell_type": "code",
      "execution_count": 1,
      "metadata": {},
      "outputs": [],
      "source": [
        "import pandas as pd\n",
        "import numpy as np\n",
        "import matplotlib.pyplot as plt\n",
        "from sklearn.ensemble import RandomForestRegressor\n",
        "from sklearn.preprocessing import StandardScaler\n",
        "\n",
        "scaler = StandardScaler()\n",
        "\n",
        "# Use this command if running notebooks on Jupyter, or locally.\n",
        "df = pd.read_csv(\"../data/wind_old.csv\")\n",
        "# Run this command when running the notebooks on Google Colab.\n",
        "# df = pd.read_csv('https://raw.githubusercontent.com/AidanNeeson/renewable-ml/main/data/wind_old.csv')\n",
        "\n",
        "df = df.sample(frac=1)\n",
        "\n",
        "X = df.loc[:, [False, True, True, True, False, True, True, False, False]]\n",
        "y = df.loc[:, [False, False, False, False, False,False, False, True, True]]\n",
        "\n",
        "X_train = X[:100000]\n",
        "X_test = X[100000:]\n",
        "y_train = y[:100000]\n",
        "y_test = y[100000:]\n",
        "\n",
        "scaler.fit(X_train)\n",
        "X_train = scaler.transform(X_train)\n",
        "X_test = scaler.transform(X_test)\n",
        "\n",
        "reg = RandomForestRegressor(random_state=0)\n",
        "reg.fit(X_train, y_train)\n",
        "preds = reg.predict(X_test)"
      ],
      "id": "cell-2"
    },
    {
      "cell_type": "markdown",
      "metadata": {},
      "source": [
        "## Graphs/Metrics\n",
        "\n",
        "### Feature Importances"
      ],
      "id": "85665f38-fc22-40d6-b934-b7bd24cec7e8"
    },
    {
      "cell_type": "code",
      "execution_count": 2,
      "metadata": {},
      "outputs": [
        {
          "output_type": "stream",
          "name": "stdout",
          "text": [
            "Feature Importances\n",
            "----------------------------\n",
            "lat: 1.7415146179729832e-09\n",
            "long: 4.556724073707158e-09\n",
            "wind_speed: 2.5874951940190983e-08\n",
            "capacity_factor: 0.0005676720796435423\n",
            "capacity: 99.99943229574717"
          ]
        }
      ],
      "source": [
        "features = ['lat','long','wind_speed','capacity','capacity_factor']\n",
        "importances = reg.feature_importances_\n",
        "indices = np.argsort(importances)\n",
        "\n",
        "print(\"Feature Importances\")\n",
        "print('----------------------------')\n",
        "for i in indices:\n",
        "    print(f\"{features[i]}: {importances[i]*100}\")"
      ],
      "id": "feature-importances-old-wind"
    },
    {
      "cell_type": "code",
      "execution_count": 3,
      "metadata": {},
      "outputs": [
        {
          "output_type": "display_data",
          "metadata": {},
          "data": {}
        }
      ],
      "source": [
        "plt.title(\"Feature Importances\")\n",
        "plt.barh(range(len(indices)), importances[indices], color='b', align='center')\n",
        "plt.yticks(range(len(indices)), [features[i] for i in indices])\n",
        "plt.xlabel(\"Relative Importance\")\n",
        "plt.show()"
      ],
      "id": "cell-fig-feature-importances-old-wind"
    }
  ],
  "nbformat": 4,
  "nbformat_minor": 5,
  "metadata": {
    "kernelspec": {
      "name": "python3",
      "display_name": "Python 3 (ipykernel)",
      "language": "python"
    },
    "language_info": {
      "name": "python",
      "codemirror_mode": {
        "name": "ipython",
        "version": "3"
      },
      "file_extension": ".py",
      "mimetype": "text/x-python",
      "nbconvert_exporter": "python",
      "pygments_lexer": "ipython3",
      "version": "3.11.5"
    }
  }
}