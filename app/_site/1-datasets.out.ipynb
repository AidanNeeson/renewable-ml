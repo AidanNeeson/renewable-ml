{
  "cells": [
    {
      "cell_type": "markdown",
      "metadata": {},
      "source": [
        "# Data Preview"
      ],
      "id": "8f1e5318-4c59-40bb-aafd-7f071aaeffdf"
    },
    {
      "cell_type": "code",
      "execution_count": 1,
      "metadata": {},
      "outputs": [],
      "source": [
        "import pandas as pd"
      ],
      "id": "cell-1"
    },
    {
      "cell_type": "code",
      "execution_count": 2,
      "metadata": {},
      "outputs": [],
      "source": [
        "# Run these commands when running the notebooks on Jupyter, or locally.\n",
        "\n",
        "wind_old_df = pd.read_csv('../data/wind_old.csv')\n",
        "solar_old_df = pd.read_csv('../data/solar_old.csv')\n",
        "wind_df = pd.read_csv('../data/wind.csv')\n",
        "solar_df = pd.read_csv('../data/solar.csv')"
      ],
      "id": "cell-2"
    },
    {
      "cell_type": "code",
      "execution_count": 3,
      "metadata": {},
      "outputs": [],
      "source": [
        "# Run these commands when running the notebooks on Google Colab.\n",
        "\n",
        "wind_old_df = pd.read_csv('https://raw.githubusercontent.com/AidanNeeson/renewable-ml/main/data/wind_old.csv')\n",
        "solar_old_df = pd.read_csv('https://raw.githubusercontent.com/AidanNeeson/renewable-ml/main/data/solar_old.csv')\n",
        "wind_df = pd.read_csv('https://raw.githubusercontent.com/AidanNeeson/renewable-ml/main/data/wind.csv')\n",
        "solar_df = pd.read_csv('https://raw.githubusercontent.com/AidanNeeson/renewable-ml/main/data/solar.csv')"
      ],
      "id": "cell-3"
    },
    {
      "cell_type": "code",
      "execution_count": 4,
      "metadata": {},
      "outputs": [
        {
          "output_type": "display_data",
          "metadata": {},
          "data": {
            "text/html": [
              "\n",
              "</div>"
            ]
          }
        }
      ],
      "source": [
        "wind_old_df.head(5)"
      ],
      "id": "cell-wind-old-dataset-preview"
    },
    {
      "cell_type": "code",
      "execution_count": 5,
      "metadata": {},
      "outputs": [
        {
          "output_type": "display_data",
          "metadata": {},
          "data": {
            "text/html": [
              "\n",
              "</div>"
            ]
          }
        }
      ],
      "source": [
        "solar_old_df.head(5)"
      ],
      "id": "cell-solar-old-dataset-preview"
    },
    {
      "cell_type": "code",
      "execution_count": 6,
      "metadata": {},
      "outputs": [
        {
          "output_type": "display_data",
          "metadata": {},
          "data": {
            "text/html": [
              "\n",
              "</div>"
            ]
          }
        }
      ],
      "source": [
        "wind_df.head(5)"
      ],
      "id": "cell-wind-dataset-preview"
    },
    {
      "cell_type": "code",
      "execution_count": 7,
      "metadata": {},
      "outputs": [
        {
          "output_type": "display_data",
          "metadata": {},
          "data": {
            "text/html": [
              "\n",
              "</div>"
            ]
          }
        }
      ],
      "source": [
        "solar_df.head(5)"
      ],
      "id": "cell-solar-dataset-preview"
    }
  ],
  "nbformat": 4,
  "nbformat_minor": 5,
  "metadata": {
    "kernelspec": {
      "name": "python3",
      "display_name": "Python 3 (ipykernel)",
      "language": "python"
    },
    "language_info": {
      "name": "python",
      "codemirror_mode": {
        "name": "ipython",
        "version": "3"
      },
      "file_extension": ".py",
      "mimetype": "text/x-python",
      "nbconvert_exporter": "python",
      "pygments_lexer": "ipython3",
      "version": "3.11.5"
    }
  }
}