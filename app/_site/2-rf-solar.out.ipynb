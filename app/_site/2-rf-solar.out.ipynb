{
  "cells": [
    {
      "cell_type": "markdown",
      "metadata": {},
      "source": [
        "# Random Forest Regression Process and Analysis for Wind Data\n",
        "\n",
        "## Imports"
      ],
      "id": "1c5aac1a-897a-4d84-8826-9e1ff4f5696b"
    },
    {
      "cell_type": "code",
      "execution_count": 1,
      "metadata": {},
      "outputs": [],
      "source": [
        "import pandas as pd\n",
        "import numpy as np\n",
        "import matplotlib.pyplot as plt\n",
        "from matplotlib.legend_handler import HandlerLine2D\n",
        "import sklearn.metrics as metrics\n",
        "from sklearn.model_selection import cross_validate, KFold\n",
        "from sklearn.ensemble import RandomForestRegressor\n",
        "from sklearn.preprocessing import StandardScaler\n",
        "from sklearn import tree"
      ],
      "id": "cell-2"
    },
    {
      "cell_type": "markdown",
      "metadata": {},
      "source": [
        "## Data Preprocessing\n",
        "\n",
        "First, we read in the dataset."
      ],
      "id": "de9f2666-f423-4670-b625-1c765b07605f"
    },
    {
      "cell_type": "code",
      "execution_count": 2,
      "metadata": {},
      "outputs": [
        {
          "output_type": "display_data",
          "metadata": {},
          "data": {
            "text/html": [
              "\n",
              "</div>"
            ]
          }
        }
      ],
      "source": [
        "df = pd.read_csv(\"../data/solar.csv\")\n",
        "df.head(5)"
      ],
      "id": "cell-dataset-preview"
    },
    {
      "cell_type": "markdown",
      "metadata": {},
      "source": [
        "Now, we must shuffle the datasets to reduce bias."
      ],
      "id": "2e2a8cff-2e47-4d1e-87f2-40acee50f004"
    },
    {
      "cell_type": "code",
      "execution_count": 3,
      "metadata": {},
      "outputs": [
        {
          "output_type": "display_data",
          "metadata": {},
          "data": {
            "text/html": [
              "\n",
              "</div>"
            ]
          }
        }
      ],
      "source": [
        "df = df.sample(frac=1)\n",
        "df.head(5)"
      ],
      "id": "cell-shuffled-dataset-preview"
    },
    {
      "cell_type": "markdown",
      "metadata": {},
      "source": [
        "Looking at each dataset, we can identify which variables we want to use\n",
        "for our models."
      ],
      "id": "88855f09-89bc-46a4-b6be-7a007de37909"
    },
    {
      "cell_type": "code",
      "execution_count": 4,
      "metadata": {},
      "outputs": [],
      "source": [
        "X = df.loc[:, ['lat','long','capacity']]\n",
        "y = df.loc[:, ['generated_energy','cost']]"
      ],
      "id": "cell-8"
    },
    {
      "cell_type": "markdown",
      "metadata": {},
      "source": [
        "Now we split into training and testing sets, reserving about 80% for\n",
        "training and 20% for testing."
      ],
      "id": "f1b7c449-c85f-4131-8a78-c51b0bb2fb74"
    },
    {
      "cell_type": "code",
      "execution_count": 5,
      "metadata": {},
      "outputs": [],
      "source": [
        "X_train = X[:9500]\n",
        "X_test = X[9500:]\n",
        "y_train = y[:9500]\n",
        "y_test = y[9500:]"
      ],
      "id": "cell-10"
    },
    {
      "cell_type": "markdown",
      "metadata": {},
      "source": [
        "Models typically perform better when input values are within a certain\n",
        "range, like \\[-1, 1\\] for example. We scale the data points\n",
        "appropriately."
      ],
      "id": "1258b6cf-9cac-4665-ad2e-0534a6dc007f"
    },
    {
      "cell_type": "code",
      "execution_count": 6,
      "metadata": {},
      "outputs": [
        {
          "output_type": "display_data",
          "metadata": {},
          "data": {
            "text/plain": [
              "array([[ 0.05942354, -0.22478554,  0.35692648],\n",
              "       [-0.03505453, -0.53086542, -0.43588483],\n",
              "       [ 0.02943926, -0.16561264, -0.44388501],\n",
              "       ...,\n",
              "       [-1.65987101,  0.4749176 ,  0.35692648],\n",
              "       [-0.40675385, -0.96669284, -0.43588483],\n",
              "       [ 0.11236886,  0.3340536 , -0.44388501]])"
            ]
          }
        }
      ],
      "source": [
        "scaler = StandardScaler()\n",
        "scaler.fit(X_train)\n",
        "X_train = scaler.transform(X_train)\n",
        "X_test = scaler.transform(X_test)\n",
        "\n",
        "X_train"
      ],
      "id": "cell-scaled-data"
    },
    {
      "cell_type": "markdown",
      "metadata": {},
      "source": [
        "## Training the Models\n",
        "\n",
        "Now that the data is pre-processed accordingly, the models can be\n",
        "trained and fit."
      ],
      "id": "1958cdbd-e872-4647-8f61-c14f5866c08d"
    },
    {
      "cell_type": "code",
      "execution_count": 7,
      "metadata": {},
      "outputs": [
        {
          "output_type": "display_data",
          "metadata": {},
          "data": {
            "text/html": [
              "<style>#sk-container-id-1 {\n",
              "  /* Definition of color scheme common for light and dark mode */\n",
              "  --sklearn-color-text: black;\n",
              "  --sklearn-color-line: gray;\n",
              "  /* Definition of color scheme for unfitted estimators */\n",
              "  --sklearn-color-unfitted-level-0: #fff5e6;\n",
              "  --sklearn-color-unfitted-level-1: #f6e4d2;\n",
              "  --sklearn-color-unfitted-level-2: #ffe0b3;\n",
              "  --sklearn-color-unfitted-level-3: chocolate;\n",
              "  /* Definition of color scheme for fitted estimators */\n",
              "  --sklearn-color-fitted-level-0: #f0f8ff;\n",
              "  --sklearn-color-fitted-level-1: #d4ebff;\n",
              "  --sklearn-color-fitted-level-2: #b3dbfd;\n",
              "  --sklearn-color-fitted-level-3: cornflowerblue;\n",
              "\n",
              "  /* Specific color for light theme */\n",
              "  --sklearn-color-text-on-default-background: var(--sg-text-color, var(--theme-code-foreground, var(--jp-content-font-color1, black)));\n",
              "  --sklearn-color-background: var(--sg-background-color, var(--theme-background, var(--jp-layout-color0, white)));\n",
              "  --sklearn-color-border-box: var(--sg-text-color, var(--theme-code-foreground, var(--jp-content-font-color1, black)));\n",
              "  --sklearn-color-icon: #696969;\n",
              "\n",
              "  @media (prefers-color-scheme: dark) {\n",
              "    /* Redefinition of color scheme for dark theme */\n",
              "    --sklearn-color-text-on-default-background: var(--sg-text-color, var(--theme-code-foreground, var(--jp-content-font-color1, white)));\n",
              "    --sklearn-color-background: var(--sg-background-color, var(--theme-background, var(--jp-layout-color0, #111)));\n",
              "    --sklearn-color-border-box: var(--sg-text-color, var(--theme-code-foreground, var(--jp-content-font-color1, white)));\n",
              "    --sklearn-color-icon: #878787;\n",
              "  }\n",
              "}\n",
              "\n",
              "#sk-container-id-1 {\n",
              "  color: var(--sklearn-color-text);\n",
              "}\n",
              "\n",
              "#sk-container-id-1 pre {\n",
              "  padding: 0;\n",
              "}\n",
              "\n",
              "#sk-container-id-1 input.sk-hidden--visually {\n",
              "  border: 0;\n",
              "  clip: rect(1px 1px 1px 1px);\n",
              "  clip: rect(1px, 1px, 1px, 1px);\n",
              "  height: 1px;\n",
              "  margin: -1px;\n",
              "  overflow: hidden;\n",
              "  padding: 0;\n",
              "  position: absolute;\n",
              "  width: 1px;\n",
              "}\n",
              "\n",
              "#sk-container-id-1 div.sk-dashed-wrapped {\n",
              "  border: 1px dashed var(--sklearn-color-line);\n",
              "  margin: 0 0.4em 0.5em 0.4em;\n",
              "  box-sizing: border-box;\n",
              "  padding-bottom: 0.4em;\n",
              "  background-color: var(--sklearn-color-background);\n",
              "}\n",
              "\n",
              "#sk-container-id-1 div.sk-container {\n",
              "  /* jupyter's `normalize.less` sets `[hidden] { display: none; }`\n",
              "     but bootstrap.min.css set `[hidden] { display: none !important; }`\n",
              "     so we also need the `!important` here to be able to override the\n",
              "     default hidden behavior on the sphinx rendered scikit-learn.org.\n",
              "     See: https://github.com/scikit-learn/scikit-learn/issues/21755 */\n",
              "  display: inline-block !important;\n",
              "  position: relative;\n",
              "}\n",
              "\n",
              "#sk-container-id-1 div.sk-text-repr-fallback {\n",
              "  display: none;\n",
              "}\n",
              "\n",
              "div.sk-parallel-item,\n",
              "div.sk-serial,\n",
              "div.sk-item {\n",
              "  /* draw centered vertical line to link estimators */\n",
              "  background-image: linear-gradient(var(--sklearn-color-text-on-default-background), var(--sklearn-color-text-on-default-background));\n",
              "  background-size: 2px 100%;\n",
              "  background-repeat: no-repeat;\n",
              "  background-position: center center;\n",
              "}\n",
              "\n",
              "/* Parallel-specific style estimator block */\n",
              "\n",
              "#sk-container-id-1 div.sk-parallel-item::after {\n",
              "  content: \"\";\n",
              "  width: 100%;\n",
              "  border-bottom: 2px solid var(--sklearn-color-text-on-default-background);\n",
              "  flex-grow: 1;\n",
              "}\n",
              "\n",
              "#sk-container-id-1 div.sk-parallel {\n",
              "  display: flex;\n",
              "  align-items: stretch;\n",
              "  justify-content: center;\n",
              "  background-color: var(--sklearn-color-background);\n",
              "  position: relative;\n",
              "}\n",
              "\n",
              "#sk-container-id-1 div.sk-parallel-item {\n",
              "  display: flex;\n",
              "  flex-direction: column;\n",
              "}\n",
              "\n",
              "#sk-container-id-1 div.sk-parallel-item:first-child::after {\n",
              "  align-self: flex-end;\n",
              "  width: 50%;\n",
              "}\n",
              "\n",
              "#sk-container-id-1 div.sk-parallel-item:last-child::after {\n",
              "  align-self: flex-start;\n",
              "  width: 50%;\n",
              "}\n",
              "\n",
              "#sk-container-id-1 div.sk-parallel-item:only-child::after {\n",
              "  width: 0;\n",
              "}\n",
              "\n",
              "/* Serial-specific style estimator block */\n",
              "\n",
              "#sk-container-id-1 div.sk-serial {\n",
              "  display: flex;\n",
              "  flex-direction: column;\n",
              "  align-items: center;\n",
              "  background-color: var(--sklearn-color-background);\n",
              "  padding-right: 1em;\n",
              "  padding-left: 1em;\n",
              "}\n",
              "\n",
              "\n",
              "/* Toggleable style: style used for estimator/Pipeline/ColumnTransformer box that is\n",
              "clickable and can be expanded/collapsed.\n",
              "- Pipeline and ColumnTransformer use this feature and define the default style\n",
              "- Estimators will overwrite some part of the style using the `sk-estimator` class\n",
              "*/\n",
              "\n",
              "/* Pipeline and ColumnTransformer style (default) */\n",
              "\n",
              "#sk-container-id-1 div.sk-toggleable {\n",
              "  /* Default theme specific background. It is overwritten whether we have a\n",
              "  specific estimator or a Pipeline/ColumnTransformer */\n",
              "  background-color: var(--sklearn-color-background);\n",
              "}\n",
              "\n",
              "/* Toggleable label */\n",
              "#sk-container-id-1 label.sk-toggleable__label {\n",
              "  cursor: pointer;\n",
              "  display: block;\n",
              "  width: 100%;\n",
              "  margin-bottom: 0;\n",
              "  padding: 0.5em;\n",
              "  box-sizing: border-box;\n",
              "  text-align: center;\n",
              "}\n",
              "\n",
              "#sk-container-id-1 label.sk-toggleable__label-arrow:before {\n",
              "  /* Arrow on the left of the label */\n",
              "  content: \"▸\";\n",
              "  float: left;\n",
              "  margin-right: 0.25em;\n",
              "  color: var(--sklearn-color-icon);\n",
              "}\n",
              "\n",
              "#sk-container-id-1 label.sk-toggleable__label-arrow:hover:before {\n",
              "  color: var(--sklearn-color-text);\n",
              "}\n",
              "\n",
              "/* Toggleable content - dropdown */\n",
              "\n",
              "#sk-container-id-1 div.sk-toggleable__content {\n",
              "  max-height: 0;\n",
              "  max-width: 0;\n",
              "  overflow: hidden;\n",
              "  text-align: left;\n",
              "  /* unfitted */\n",
              "  background-color: var(--sklearn-color-unfitted-level-0);\n",
              "}\n",
              "\n",
              "#sk-container-id-1 div.sk-toggleable__content.fitted {\n",
              "  /* fitted */\n",
              "  background-color: var(--sklearn-color-fitted-level-0);\n",
              "}\n",
              "\n",
              "#sk-container-id-1 div.sk-toggleable__content pre {\n",
              "  margin: 0.2em;\n",
              "  border-radius: 0.25em;\n",
              "  color: var(--sklearn-color-text);\n",
              "  /* unfitted */\n",
              "  background-color: var(--sklearn-color-unfitted-level-0);\n",
              "}\n",
              "\n",
              "#sk-container-id-1 div.sk-toggleable__content.fitted pre {\n",
              "  /* unfitted */\n",
              "  background-color: var(--sklearn-color-fitted-level-0);\n",
              "}\n",
              "\n",
              "#sk-container-id-1 input.sk-toggleable__control:checked~div.sk-toggleable__content {\n",
              "  /* Expand drop-down */\n",
              "  max-height: 200px;\n",
              "  max-width: 100%;\n",
              "  overflow: auto;\n",
              "}\n",
              "\n",
              "#sk-container-id-1 input.sk-toggleable__control:checked~label.sk-toggleable__label-arrow:before {\n",
              "  content: \"▾\";\n",
              "}\n",
              "\n",
              "/* Pipeline/ColumnTransformer-specific style */\n",
              "\n",
              "#sk-container-id-1 div.sk-label input.sk-toggleable__control:checked~label.sk-toggleable__label {\n",
              "  color: var(--sklearn-color-text);\n",
              "  background-color: var(--sklearn-color-unfitted-level-2);\n",
              "}\n",
              "\n",
              "#sk-container-id-1 div.sk-label.fitted input.sk-toggleable__control:checked~label.sk-toggleable__label {\n",
              "  background-color: var(--sklearn-color-fitted-level-2);\n",
              "}\n",
              "\n",
              "/* Estimator-specific style */\n",
              "\n",
              "/* Colorize estimator box */\n",
              "#sk-container-id-1 div.sk-estimator input.sk-toggleable__control:checked~label.sk-toggleable__label {\n",
              "  /* unfitted */\n",
              "  background-color: var(--sklearn-color-unfitted-level-2);\n",
              "}\n",
              "\n",
              "#sk-container-id-1 div.sk-estimator.fitted input.sk-toggleable__control:checked~label.sk-toggleable__label {\n",
              "  /* fitted */\n",
              "  background-color: var(--sklearn-color-fitted-level-2);\n",
              "}\n",
              "\n",
              "#sk-container-id-1 div.sk-label label.sk-toggleable__label,\n",
              "#sk-container-id-1 div.sk-label label {\n",
              "  /* The background is the default theme color */\n",
              "  color: var(--sklearn-color-text-on-default-background);\n",
              "}\n",
              "\n",
              "/* On hover, darken the color of the background */\n",
              "#sk-container-id-1 div.sk-label:hover label.sk-toggleable__label {\n",
              "  color: var(--sklearn-color-text);\n",
              "  background-color: var(--sklearn-color-unfitted-level-2);\n",
              "}\n",
              "\n",
              "/* Label box, darken color on hover, fitted */\n",
              "#sk-container-id-1 div.sk-label.fitted:hover label.sk-toggleable__label.fitted {\n",
              "  color: var(--sklearn-color-text);\n",
              "  background-color: var(--sklearn-color-fitted-level-2);\n",
              "}\n",
              "\n",
              "/* Estimator label */\n",
              "\n",
              "#sk-container-id-1 div.sk-label label {\n",
              "  font-family: monospace;\n",
              "  font-weight: bold;\n",
              "  display: inline-block;\n",
              "  line-height: 1.2em;\n",
              "}\n",
              "\n",
              "#sk-container-id-1 div.sk-label-container {\n",
              "  text-align: center;\n",
              "}\n",
              "\n",
              "/* Estimator-specific */\n",
              "#sk-container-id-1 div.sk-estimator {\n",
              "  font-family: monospace;\n",
              "  border: 1px dotted var(--sklearn-color-border-box);\n",
              "  border-radius: 0.25em;\n",
              "  box-sizing: border-box;\n",
              "  margin-bottom: 0.5em;\n",
              "  /* unfitted */\n",
              "  background-color: var(--sklearn-color-unfitted-level-0);\n",
              "}\n",
              "\n",
              "#sk-container-id-1 div.sk-estimator.fitted {\n",
              "  /* fitted */\n",
              "  background-color: var(--sklearn-color-fitted-level-0);\n",
              "}\n",
              "\n",
              "/* on hover */\n",
              "#sk-container-id-1 div.sk-estimator:hover {\n",
              "  /* unfitted */\n",
              "  background-color: var(--sklearn-color-unfitted-level-2);\n",
              "}\n",
              "\n",
              "#sk-container-id-1 div.sk-estimator.fitted:hover {\n",
              "  /* fitted */\n",
              "  background-color: var(--sklearn-color-fitted-level-2);\n",
              "}\n",
              "\n",
              "/* Specification for estimator info (e.g. \"i\" and \"?\") */\n",
              "\n",
              "/* Common style for \"i\" and \"?\" */\n",
              "\n",
              ".sk-estimator-doc-link,\n",
              "a:link.sk-estimator-doc-link,\n",
              "a:visited.sk-estimator-doc-link {\n",
              "  float: right;\n",
              "  font-size: smaller;\n",
              "  line-height: 1em;\n",
              "  font-family: monospace;\n",
              "  background-color: var(--sklearn-color-background);\n",
              "  border-radius: 1em;\n",
              "  height: 1em;\n",
              "  width: 1em;\n",
              "  text-decoration: none !important;\n",
              "  margin-left: 1ex;\n",
              "  /* unfitted */\n",
              "  border: var(--sklearn-color-unfitted-level-1) 1pt solid;\n",
              "  color: var(--sklearn-color-unfitted-level-1);\n",
              "}\n",
              "\n",
              ".sk-estimator-doc-link.fitted,\n",
              "a:link.sk-estimator-doc-link.fitted,\n",
              "a:visited.sk-estimator-doc-link.fitted {\n",
              "  /* fitted */\n",
              "  border: var(--sklearn-color-fitted-level-1) 1pt solid;\n",
              "  color: var(--sklearn-color-fitted-level-1);\n",
              "}\n",
              "\n",
              "/* On hover */\n",
              "div.sk-estimator:hover .sk-estimator-doc-link:hover,\n",
              ".sk-estimator-doc-link:hover,\n",
              "div.sk-label-container:hover .sk-estimator-doc-link:hover,\n",
              ".sk-estimator-doc-link:hover {\n",
              "  /* unfitted */\n",
              "  background-color: var(--sklearn-color-unfitted-level-3);\n",
              "  color: var(--sklearn-color-background);\n",
              "  text-decoration: none;\n",
              "}\n",
              "\n",
              "div.sk-estimator.fitted:hover .sk-estimator-doc-link.fitted:hover,\n",
              ".sk-estimator-doc-link.fitted:hover,\n",
              "div.sk-label-container:hover .sk-estimator-doc-link.fitted:hover,\n",
              ".sk-estimator-doc-link.fitted:hover {\n",
              "  /* fitted */\n",
              "  background-color: var(--sklearn-color-fitted-level-3);\n",
              "  color: var(--sklearn-color-background);\n",
              "  text-decoration: none;\n",
              "}\n",
              "\n",
              "/* Span, style for the box shown on hovering the info icon */\n",
              ".sk-estimator-doc-link span {\n",
              "  display: none;\n",
              "  z-index: 9999;\n",
              "  position: relative;\n",
              "  font-weight: normal;\n",
              "  right: .2ex;\n",
              "  padding: .5ex;\n",
              "  margin: .5ex;\n",
              "  width: min-content;\n",
              "  min-width: 20ex;\n",
              "  max-width: 50ex;\n",
              "  color: var(--sklearn-color-text);\n",
              "  box-shadow: 2pt 2pt 4pt #999;\n",
              "  /* unfitted */\n",
              "  background: var(--sklearn-color-unfitted-level-0);\n",
              "  border: .5pt solid var(--sklearn-color-unfitted-level-3);\n",
              "}\n",
              "\n",
              ".sk-estimator-doc-link.fitted span {\n",
              "  /* fitted */\n",
              "  background: var(--sklearn-color-fitted-level-0);\n",
              "  border: var(--sklearn-color-fitted-level-3);\n",
              "}\n",
              "\n",
              ".sk-estimator-doc-link:hover span {\n",
              "  display: block;\n",
              "}\n",
              "\n",
              "/* \"?\"-specific style due to the `<a>` HTML tag */\n",
              "\n",
              "#sk-container-id-1 a.estimator_doc_link {\n",
              "  float: right;\n",
              "  font-size: 1rem;\n",
              "  line-height: 1em;\n",
              "  font-family: monospace;\n",
              "  background-color: var(--sklearn-color-background);\n",
              "  border-radius: 1rem;\n",
              "  height: 1rem;\n",
              "  width: 1rem;\n",
              "  text-decoration: none;\n",
              "  /* unfitted */\n",
              "  color: var(--sklearn-color-unfitted-level-1);\n",
              "  border: var(--sklearn-color-unfitted-level-1) 1pt solid;\n",
              "}\n",
              "\n",
              "#sk-container-id-1 a.estimator_doc_link.fitted {\n",
              "  /* fitted */\n",
              "  border: var(--sklearn-color-fitted-level-1) 1pt solid;\n",
              "  color: var(--sklearn-color-fitted-level-1);\n",
              "}\n",
              "\n",
              "/* On hover */\n",
              "#sk-container-id-1 a.estimator_doc_link:hover {\n",
              "  /* unfitted */\n",
              "  background-color: var(--sklearn-color-unfitted-level-3);\n",
              "  color: var(--sklearn-color-background);\n",
              "  text-decoration: none;\n",
              "}\n",
              "\n",
              "#sk-container-id-1 a.estimator_doc_link.fitted:hover {\n",
              "  /* fitted */\n",
              "  background-color: var(--sklearn-color-fitted-level-3);\n",
              "}\n",
              "</style><div id=\"sk-container-id-1\" class=\"sk-top-container\"><div class=\"sk-text-repr-fallback\"><pre>RandomForestRegressor()</pre><b>In a Jupyter environment, please rerun this cell to show the HTML representation or trust the notebook. <br />On GitHub, the HTML representation is unable to render, please try loading this page with nbviewer.org.</b></div><div class=\"sk-container\" hidden><div class=\"sk-item\"><div class=\"sk-estimator fitted sk-toggleable\"><input class=\"sk-toggleable__control sk-hidden--visually\" id=\"sk-estimator-id-1\" type=\"checkbox\" checked><label for=\"sk-estimator-id-1\" class=\"sk-toggleable__label fitted sk-toggleable__label-arrow fitted\">&nbsp;&nbsp;RandomForestRegressor<a class=\"sk-estimator-doc-link fitted\" rel=\"noreferrer\" target=\"_blank\" href=\"https://scikit-learn.org/1.4/modules/generated/sklearn.ensemble.RandomForestRegressor.html\">?<span>Documentation for RandomForestRegressor</span></a><span class=\"sk-estimator-doc-link fitted\">i<span>Fitted</span></span></label><div class=\"sk-toggleable__content fitted\"><pre>RandomForestRegressor()</pre></div> </div></div></div></div>"
            ]
          }
        }
      ],
      "source": [
        "reg = RandomForestRegressor()\n",
        "reg.fit(X_train, y_train)"
      ],
      "id": "cell-14"
    },
    {
      "cell_type": "markdown",
      "metadata": {},
      "source": [
        "With a trained model, predictions can now be made."
      ],
      "id": "626dce36-519c-47c9-aba0-d3e89580eee0"
    },
    {
      "cell_type": "code",
      "execution_count": 8,
      "metadata": {},
      "outputs": [
        {
          "output_type": "stream",
          "name": "stdout",
          "text": [
            "Predictions\n",
            "----------------------\n",
            "predicted energy: 6132.00   actual energy: 6132.00  predicted cost: 5028240.00  actual cost: 5028240.00\n",
            "predicted energy: 613200.00 actual energy: 613200.00    predicted cost: 416976000.00    actual cost: 416976000.00\n",
            "predicted energy: 6132.00   actual energy: 6132.00  predicted cost: 5028240.00  actual cost: 5028240.00"
          ]
        }
      ],
      "source": [
        "display = y_test.reset_index()\n",
        "preds = reg.predict(X_test)\n",
        "print(\"Predictions\")\n",
        "print(\"----------------------\")\n",
        "for i in range(3):\n",
        "    print(f\"predicted energy: {preds[i][0]:.2f}\\tactual energy: {display.at[i, 'generated_energy']:.2f}\\tpredicted cost: {preds[i][1]:.2f}\\tactual cost: {display.at[i, 'cost']:.2f}\")"
      ],
      "id": "prediction-comparisons"
    },
    {
      "cell_type": "markdown",
      "metadata": {},
      "source": [
        "## Testing and Analyzing the Models\n",
        "\n",
        "This section contains metrics gathering and other figures that visualize\n",
        "the models and its results.\n",
        "\n",
        "### Metrics\n",
        "\n",
        "#### Scores and Error Values\n",
        "\n",
        "The score being recored are the R2 score, Root Mean Squared Error\n",
        "(RMSE), and Mean Absolute Percentage Error (MAPE)."
      ],
      "id": "aeff9188-3f20-43fb-b8b7-0908121ecb71"
    },
    {
      "cell_type": "code",
      "execution_count": 9,
      "metadata": {},
      "outputs": [
        {
          "output_type": "stream",
          "name": "stdout",
          "text": [
            "Metric  Score\n",
            "-----------------------\n",
            "r2  [1.         0.99947801]\n",
            "rmse    [1.89379452e-12 1.36960035e+07]\n",
            "mape    [9.69285180e-16 4.32843758e-03]"
          ]
        }
      ],
      "source": [
        "r2 = metrics.r2_score(y_test, preds, multioutput=\"raw_values\")\n",
        "rmse = metrics.root_mean_squared_error(y_test, preds, multioutput=\"raw_values\")\n",
        "mape = metrics.mean_absolute_percentage_error(y_test, preds, multioutput=\"raw_values\")\n",
        "\n",
        "print(\"Metric\\tScore\")\n",
        "print(\"-----------------------\")\n",
        "print(f\"r2\\t{r2}\\nrmse\\t{rmse}\\nmape\\t{mape}\")"
      ],
      "id": "metrics"
    },
    {
      "cell_type": "markdown",
      "metadata": {},
      "source": [
        "#### Feature Importances\n",
        "\n",
        "Feature importances give insights into the features that each decision\n",
        "tree in the random forest use to split most often. Results are portrayed\n",
        "in percentages."
      ],
      "id": "63401dae-0ba9-4172-9556-49a4a127c163"
    },
    {
      "cell_type": "code",
      "execution_count": 10,
      "metadata": {},
      "outputs": [
        {
          "output_type": "stream",
          "name": "stdout",
          "text": [
            "Importances\n",
            "----------------------\n",
            "long: 0.49924958098045885\n",
            "lat: 0.7828307672340137\n",
            "capacity: 98.71791965178554"
          ]
        }
      ],
      "source": [
        "features = ['lat','long','capacity',]\n",
        "\n",
        "importances = reg.feature_importances_\n",
        "indices = np.argsort(importances)\n",
        "\n",
        "print(\"Importances\")\n",
        "print('----------------------')\n",
        "for i in indices:\n",
        "    print(f\"{features[i]}: {importances[i]*100}\")"
      ],
      "id": "feature-importances"
    },
    {
      "cell_type": "markdown",
      "metadata": {},
      "source": [
        "#### K-Fold Cross Validation\n",
        "\n",
        "This cross validation splits up the dataset into 10 unique folds, which\n",
        "are then used to test a model. The model is then scored using the same\n",
        "metrics outlined above: R2, RMSE, MAPE. This ensures the scoring is\n",
        "rigorous, and the *entire* dataset is used."
      ],
      "id": "29e92fbe-ffa0-4b72-b274-2773aef15bff"
    },
    {
      "cell_type": "code",
      "execution_count": 11,
      "metadata": {},
      "outputs": [
        {
          "output_type": "stream",
          "name": "stdout",
          "text": [
            "10-Fold Cross Validation Scores\n",
            "----------------------------------------------------\n",
            "R2 Average: 0.999750656025779\n",
            "RMSE Average: 6617044.390212841\n",
            "MAPE Average: 0.0019449076617190596"
          ]
        },
        {
          "output_type": "display_data",
          "metadata": {},
          "data": {
            "text/html": [
              "\n",
              "</div>"
            ]
          }
        }
      ],
      "source": [
        "kf = KFold(n_splits=10, random_state=0, shuffle=True)\n",
        "kf_cv_scores = cross_validate(reg, X, y, cv=kf, scoring={\"r2\":metrics.make_scorer(score_func=metrics.r2_score),\n",
        " \"rmse\":metrics.make_scorer(score_func=metrics.root_mean_squared_error),\n",
        " \"mape\":metrics.make_scorer(score_func=metrics.mean_absolute_percentage_error)})\n",
        "kf_cv_df = pd.DataFrame.from_dict(kf_cv_scores)\n",
        "means = kf_cv_df.mean()\n",
        "print(\"10-Fold Cross Validation Scores\")\n",
        "print(\"----------------------------------------------------\")\n",
        "print(f\"R2 Average: {means.iloc[2]}\")\n",
        "print(f\"RMSE Average: {means.iloc[3]}\")\n",
        "print(f\"MAPE Average: {means.iloc[4]}\")\n",
        "kf_cv_df"
      ],
      "id": "cell-k-fold-cross-validation-table"
    },
    {
      "cell_type": "markdown",
      "metadata": {},
      "source": [
        "### Graphs\n",
        "\n",
        "Graphs of the Random Forest model fits on each of the input features,\n",
        "for each target."
      ],
      "id": "d466e344-e65b-4465-8959-c7fe603c3fe1"
    },
    {
      "cell_type": "code",
      "execution_count": 16,
      "metadata": {},
      "outputs": [
        {
          "output_type": "display_data",
          "metadata": {},
          "data": {}
        }
      ],
      "source": [
        "plot_lat_x = X[9500:].loc[:,['lat']].sort_values(by=['lat'])\n",
        "plot_long_x = X[9500:].loc[:,['long']].sort_values(by=['long'])\n",
        "plot_cap_x = X[9500:].loc[:,['capacity']].sort_values(by=['capacity'])\n",
        "plot_energy_y = pd.DataFrame(preds).loc[:,[0]].sort_values(by=[0])\n",
        "\n",
        "figure, axis = plt.subplots(3)\n",
        "\n",
        "figure.set_size_inches(15,15)\n",
        "\n",
        "axis[0].scatter(X.loc[:,[\"lat\"]], y.loc[:,['generated_energy']], color='blue', label='Data', s=5)\n",
        "axis[0].plot(plot_lat_x, plot_energy_y, color='red',lw=2, label=\"Generated Energy Model\")\n",
        "axis[0].set_xlabel(\"Latitude\")\n",
        "axis[0].set_ylabel(\"Generated Energy(MWh)\")\n",
        "axis[0].set_title(\"Random Forest Regression: Generated Energy vs. Latitude\")\n",
        "axis[0].legend()\n",
        "\n",
        "axis[1].scatter(X.loc[:,[\"long\"]], y.loc[:,['generated_energy']], color='blue', label='Data', s=5)\n",
        "axis[1].plot(plot_long_x, plot_energy_y, color='red',lw=2, label=\"Generated Energy Model\")\n",
        "axis[1].set_xlabel(\"Longitude\")\n",
        "axis[1].set_ylabel(\"Generated Energy(MWh)\")\n",
        "axis[1].set_title(\"Random Forest Regression: Generated Energy vs. Longitude\")\n",
        "axis[1].legend()\n",
        "\n",
        "axis[2].scatter(X.loc[:,[\"capacity\"]], y.loc[:,['generated_energy']], color='blue', label='Data', s=5)\n",
        "axis[2].plot(plot_cap_x, plot_energy_y, color='red',lw=2, label=\"Generated Energy Model\")\n",
        "axis[2].set_xlabel(\"Capacity(MW)\")\n",
        "axis[2].set_ylabel(\"Generated Energy(MWh)\")\n",
        "axis[2].set_title(\"Random Forest Regression: Generated Energy vs. Capacity\")\n",
        "axis[2].legend()\n",
        "\n",
        "plt.subplots_adjust(left=0.1,\n",
        "                    bottom=0.1, \n",
        "                    right=0.9, \n",
        "                    top=0.9, \n",
        "                    wspace=.4, \n",
        "                    hspace=.4)\n",
        "\n",
        "plt.show()"
      ],
      "id": "cell-fig-generated-energy-vs-input-features"
    },
    {
      "cell_type": "code",
      "execution_count": 17,
      "metadata": {},
      "outputs": [
        {
          "output_type": "display_data",
          "metadata": {},
          "data": {}
        }
      ],
      "source": [
        "plot_cost_y = pd.DataFrame(preds).loc[:,[1]].sort_values(by=[1])\n",
        "\n",
        "figure, axis = plt.subplots(3)\n",
        "\n",
        "figure.set_size_inches(15,15)\n",
        "\n",
        "axis[0].scatter(X.loc[:,[\"lat\"]], y.loc[:,['cost']], color='blue', label='Data', s=5)\n",
        "axis[0].plot(plot_lat_x, plot_cost_y, color='red',lw=2, label=\"Cost Model\")\n",
        "axis[0].set_xlabel(\"Latitude\")\n",
        "axis[0].set_ylabel(\"Cost($)\")\n",
        "axis[0].set_title(\"Random Forest Regression: Cost vs. Latitude\")\n",
        "axis[0].legend()\n",
        "\n",
        "axis[1].scatter(X.loc[:,[\"long\"]], y.loc[:,['cost']], color='blue', label='Data', s=5)\n",
        "axis[1].plot(plot_long_x, plot_cost_y, color='red',lw=2, label=\"Cost Model\")\n",
        "axis[1].set_xlabel(\"Longitude\")\n",
        "axis[1].set_ylabel(\"Cost($)\")\n",
        "axis[1].set_title(\"Random Forest Regression: Cost vs. Longitude\")\n",
        "axis[1].legend()\n",
        "\n",
        "axis[2].scatter(X.loc[:,[\"capacity\"]], y.loc[:,['cost']], color='blue', label='Data', s=5)\n",
        "axis[2].plot(plot_cap_x, plot_cost_y, color='red',lw=2, label=\"Cost Model\")\n",
        "axis[2].set_xlabel(\"Capacity(MW)\")\n",
        "axis[2].set_ylabel(\"Cost($)\")\n",
        "axis[2].set_title(\"Random Forest Regression: Cost vs. Capacity\")\n",
        "axis[2].legend()\n",
        "\n",
        "plt.subplots_adjust(left=0.1,\n",
        "                    bottom=0.1, \n",
        "                    right=0.9, \n",
        "                    top=0.9, \n",
        "                    wspace=.4, \n",
        "                    hspace=.4)\n",
        "\n",
        "plt.show()"
      ],
      "id": "cell-fig-cost-vs-input-features"
    },
    {
      "cell_type": "markdown",
      "metadata": {},
      "source": [
        "A graph of the feature importances. This helps to visualize the\n",
        "magnitude of importance of each feature, and compare their impact\n",
        "against one another."
      ],
      "id": "96ff857c-07d4-46e4-8f09-9034d56f5eb9"
    },
    {
      "cell_type": "code",
      "execution_count": 14,
      "metadata": {},
      "outputs": [
        {
          "output_type": "display_data",
          "metadata": {},
          "data": {}
        }
      ],
      "source": [
        "plt.title(\"Feature Importances\")\n",
        "plt.barh(range(len(indices)), importances[indices], color='b', align='center')\n",
        "plt.yticks(range(len(indices)), [features[i] for i in indices])\n",
        "plt.xlabel(\"Relative Importance\")\n",
        "plt.show()"
      ],
      "id": "cell-fig-feature-importances"
    },
    {
      "cell_type": "markdown",
      "metadata": {},
      "source": [
        "A graph of one of the decision trees in the random forest. This displays\n",
        "the decision making process the model takes to arive at predictions."
      ],
      "id": "60e5aa84-6c0f-4100-a471-924781b402ea"
    },
    {
      "cell_type": "code",
      "execution_count": 15,
      "metadata": {},
      "outputs": [
        {
          "output_type": "display_data",
          "metadata": {},
          "data": {}
        }
      ],
      "source": [
        "fn = ['lat','long','capacity']\n",
        "cn = ['generated_energy','cost']\n",
        "plt.subplots(nrows=1, ncols=1, figsize=(4,4), dpi=800)\n",
        "tree.plot_tree(reg.estimators_[0],feature_names=fn,class_names=cn,filled=True, max_depth=3)\n",
        "plt.show()"
      ],
      "id": "cell-fig-decision-tree"
    }
  ],
  "nbformat": 4,
  "nbformat_minor": 5,
  "metadata": {
    "kernelspec": {
      "name": "python3",
      "display_name": "Python 3 (ipykernel)",
      "language": "python"
    },
    "language_info": {
      "name": "python",
      "codemirror_mode": {
        "name": "ipython",
        "version": "3"
      },
      "file_extension": ".py",
      "mimetype": "text/x-python",
      "nbconvert_exporter": "python",
      "pygments_lexer": "ipython3",
      "version": "3.11.5"
    }
  }
}