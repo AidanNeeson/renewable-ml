{
 "cells": [
  {
   "cell_type": "raw",
   "metadata": {},
   "source": [
    "---\n",
    "title: \"Exploratory Data Analysis\"\n",
    "---"
   ]
  },
  {
   "cell_type": "markdown",
   "metadata": {},
   "source": [
    "# Exploratory Data Analysis\n",
    "\n",
    "One of the most important steps when performing any kind of analysis on large\n",
    "sets of data is to validate the data. A simple and effective way of doing this\n",
    "is by performing Exploratory Data Analysis (EDA). This consists of a wide range of\n",
    "things from examining the set for missing data points or gathering some\n",
    "statistical measures from the dataset, like the mean, standard deviation, and\n",
    "variance."
   ]
  }
 ],
 "metadata": {
  "kernelspec": {
   "display_name": "Python 3 (ipykernel)",
   "language": "python",
   "name": "python3"
  },
  "language_info": {
   "codemirror_mode": {
    "name": "ipython",
    "version": 3
   },
   "file_extension": ".py",
   "mimetype": "text/x-python",
   "name": "python",
   "nbconvert_exporter": "python",
   "pygments_lexer": "ipython3",
   "version": "3.11.5"
  }
 },
 "nbformat": 4,
 "nbformat_minor": 4
}
