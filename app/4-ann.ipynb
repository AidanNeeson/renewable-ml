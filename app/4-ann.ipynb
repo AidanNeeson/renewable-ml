{
 "cells": [
  {
   "cell_type": "raw",
   "metadata": {},
   "source": [
    "---\n",
    "title: \"Artificial Neural Network Analysis\"\n",
    "---"
   ]
  },
  {
   "cell_type": "markdown",
   "metadata": {},
   "source": [
    "## Imports"
   ]
  },
  {
   "cell_type": "code",
   "execution_count": 2,
   "metadata": {},
   "outputs": [],
   "source": [
    "import pandas as pd\n",
    "from sklearn.neural_network import MLPRegressor\n",
    "from sklearn.preprocessing import StandardScaler"
   ]
  },
  {
   "cell_type": "markdown",
   "metadata": {},
   "source": [
    "## Prep the Data\n",
    "\n",
    "First, we read in the datasets."
   ]
  },
  {
   "cell_type": "code",
   "execution_count": 3,
   "metadata": {},
   "outputs": [
    {
     "name": "stdout",
     "output_type": "stream",
     "text": [
      "Previews of the datasets:\n",
      "   id        lat        long  wind_speed farm_type  capacity  capacity_factor  \\\n",
      "0   0  23.510410 -117.147260        6.07  offshore        16            0.169   \n",
      "1   1  24.007446  -93.946777        7.43  offshore        16            0.302   \n",
      "2   2  25.069138  -97.482483        8.19  offshore        16            0.375   \n",
      "3   3  25.069443  -97.463135        8.19  offshore        16            0.375   \n",
      "4   4  25.069763  -97.443756        8.19  offshore        16            0.376   \n",
      "5   5  25.070091  -97.424377        8.19  offshore        16            0.375   \n",
      "6   6  25.070404  -97.404999        8.19  offshore        16            0.375   \n",
      "7   7  25.086678  -97.482849        8.18  offshore        16            0.375   \n",
      "8   8  25.087006  -97.463470        8.19  offshore        16            0.376   \n",
      "9   9  25.087318  -97.444092        8.19  offshore        16            0.376   \n",
      "\n",
      "   power_generation  estimated_cost  \n",
      "0          23687.04        20800000  \n",
      "1          42328.32        20800000  \n",
      "2          52560.00        20800000  \n",
      "3          52560.00        20800000  \n",
      "4          52700.16        20800000  \n",
      "5          52560.00        20800000  \n",
      "6          52560.00        20800000  \n",
      "7          52560.00        20800000  \n",
      "8          52700.16        20800000  \n",
      "9          52700.16        20800000  \n",
      "_________________________________\n",
      "   id        lat       long  irradiance          farm_type  capacity  \\\n",
      "0   0  25.896492 -97.460358    5.634079    large_community     5.000   \n",
      "1   1  26.032654 -97.738098    5.616413      small_utility     5.000   \n",
      "2   2  26.059063 -97.208252    5.746738    small_community     0.150   \n",
      "3   3  26.078449 -98.073364    5.742196      small_utility     5.000   \n",
      "4   4  26.143227 -98.311340    5.817187      small_utility     5.000   \n",
      "5   5  26.149040 -98.075409    5.701752    large_community     5.000   \n",
      "6   6  26.180355 -97.367737    5.720004     medium_utility   500.000   \n",
      "7   7  26.254963 -98.078491    5.730308  small_residential     0.005   \n",
      "8   8  26.272160 -98.098694    5.734213      large_utility  2000.000   \n",
      "9   9  26.272625 -98.078979    5.755140    small_community     0.150   \n",
      "\n",
      "   capacity_factor  power_generation  estimated_cost  \n",
      "0            0.235      1.028219e+04        13300000  \n",
      "1            0.234      1.024995e+04        13300000  \n",
      "2            0.239      3.146339e+02          399000  \n",
      "3            0.239      1.047951e+04        13300000  \n",
      "4            0.242      1.061637e+04        13300000  \n",
      "5            0.238      1.040570e+04        13300000  \n",
      "6            0.238      1.043901e+06      1330000000  \n",
      "7            0.239      1.045781e+01           13300  \n",
      "8            0.239      4.185975e+06      5320000000  \n",
      "9            0.240      3.150939e+02          399000  \n"
     ]
    }
   ],
   "source": [
    "wind_df = pd.read_csv(\"../data/wind.csv\")\n",
    "solar_df = pd.read_csv(\"../data/solar.csv\")\n",
    "\n",
    "print(\"Previews of the datasets:\")\n",
    "print(wind_df.head(10))\n",
    "print(\"_________________________________\")\n",
    "print(solar_df.head(10))"
   ]
  },
  {
   "cell_type": "markdown",
   "metadata": {},
   "source": [
    "Now, we must shuffle the datasets to reduce bias."
   ]
  },
  {
   "cell_type": "code",
   "execution_count": 4,
   "metadata": {},
   "outputs": [
    {
     "name": "stdout",
     "output_type": "stream",
     "text": [
      "Previews of the shuffled datasets:\n",
      "          id        lat        long  wind_speed farm_type  capacity  \\\n",
      "16674  16674  34.956932  -97.285461        7.63   onshore        10   \n",
      "31096  31096  36.798687 -103.728027        8.75   onshore        16   \n",
      "86303  86303  42.880878 -107.222290        8.94   onshore        16   \n",
      "97140  97140  44.293499  -96.403290        8.33   onshore        16   \n",
      "18893  18893  34.831398 -105.516205        8.24   onshore        16   \n",
      "9247    9247  30.578217  -80.625122        7.21  offshore        16   \n",
      "55981  55981  40.764744  -89.805542        6.77   onshore        16   \n",
      "73821  73821  41.626110  -83.305084        7.25   onshore        10   \n",
      "98080  98080  42.294132  -74.849792        7.20   onshore        12   \n",
      "6021    6021  29.833126  -90.057617        5.99   onshore        16   \n",
      "\n",
      "       capacity_factor  power_generation  estimated_cost  \n",
      "16674            0.439          38456.40        13000000  \n",
      "31096            0.390          54662.40        20800000  \n",
      "86303            0.447          62651.52        20800000  \n",
      "97140            0.480          67276.80        20800000  \n",
      "18893            0.413          57886.08        20800000  \n",
      "9247             0.293          41066.88        20800000  \n",
      "55981            0.390          54662.40        20800000  \n",
      "73821            0.452          39595.20        13000000  \n",
      "98080            0.374          39314.88        15600000  \n",
      "6021             0.291          40786.56        20800000  \n",
      "_________________________________\n",
      "          id        lat        long  irradiance           farm_type  capacity  \\\n",
      "4967    4967  34.815369 -105.491394    6.543484     small_community     0.150   \n",
      "11264  11264  45.323448  -70.688354    4.259140   large_residential     0.015   \n",
      "11130  11130  42.872227 -124.405975    4.531468   large_residential     0.015   \n",
      "10174  10174  40.820625  -83.971588    4.672360      medium_utility   500.000   \n",
      "2721    2721  33.899540 -105.626068    6.486518  medium_residential     0.010   \n",
      "10347  10347  41.618584 -107.260391    5.597078       small_utility     5.000   \n",
      "9755    9755  38.294769  -96.647552    5.422895   large_residential     0.015   \n",
      "4599    4599  34.780090 -105.284241    6.509412     large_community     5.000   \n",
      "5872    5872  35.085827 -104.133545    6.532050     large_community     5.000   \n",
      "7218    7218  35.588127  -96.395020    5.429985     small_community     0.150   \n",
      "\n",
      "       capacity_factor  power_generation  estimated_cost  \n",
      "4967             0.273        358.255761          399000  \n",
      "11264            0.177         23.318794           39900  \n",
      "11130            0.189         24.809787           39900  \n",
      "10174            0.195     852705.689600      1330000000  \n",
      "2721             0.270         23.675792           26600  \n",
      "10347            0.233      10214.667070        13300000  \n",
      "9755             0.226         29.690352           39900  \n",
      "4599             0.271      11879.677430        13300000  \n",
      "5872             0.272      11920.990620        13300000  \n",
      "7218             0.226        297.291681          399000  \n"
     ]
    }
   ],
   "source": [
    "wind_df = wind_df.sample(frac=1)\n",
    "solar_df = solar_df.sample(frac=1)\n",
    "\n",
    "print(\"Previews of the shuffled datasets:\")\n",
    "print(wind_df.head(10))\n",
    "print(\"_________________________________\")\n",
    "print(solar_df.head(10))"
   ]
  },
  {
   "cell_type": "markdown",
   "metadata": {},
   "source": [
    "Looking at each dataset, we can identify which variables we want to use for our models."
   ]
  },
  {
   "cell_type": "code",
   "execution_count": 5,
   "metadata": {},
   "outputs": [],
   "source": [
    "# Wind data\n",
    "wind_X = wind_df.loc[:, [False, True, True, True, False, True, True, False, False]]\n",
    "wind_y = wind_df.loc[:, [False, False, False, False, False, False, False, True, True]]\n",
    "\n",
    "# Solar data\n",
    "solar_X = solar_df.loc[:, [False, True, True, True, False, True, True, False, False]]\n",
    "solar_y = solar_df.loc[:, [False, False, False, False, False, False, False, True, True]]"
   ]
  },
  {
   "cell_type": "markdown",
   "metadata": {},
   "source": [
    "Now we split into training and testing sets, reserving about 80% for training and 20% for testing."
   ]
  },
  {
   "cell_type": "code",
   "execution_count": 6,
   "metadata": {},
   "outputs": [],
   "source": [
    "# Wind data\n",
    "wind_X_train = wind_X[:100000]\n",
    "wind_X_test = wind_X[100000:]\n",
    "wind_y_train = wind_y[:100000]\n",
    "wind_y_test = wind_y[100000:]\n",
    "\n",
    "# Solar data\n",
    "solar_X_train = solar_X[:9500]\n",
    "solar_X_test = solar_X[9500:]\n",
    "solar_y_train = solar_y[:9500]\n",
    "solar_y_test = solar_y[9500:]"
   ]
  },
  {
   "cell_type": "markdown",
   "metadata": {},
   "source": [
    "Some models perform better when inputs are within a certain range, like [-1, 1] for example. We scale the data points appropriately."
   ]
  },
  {
   "cell_type": "code",
   "execution_count": 7,
   "metadata": {},
   "outputs": [],
   "source": [
    "scaler = StandardScaler()\n",
    "\n",
    "# Wind data\n",
    "scaler.fit(wind_X_train)\n",
    "wind_X_train = scaler.transform(wind_X_train)\n",
    "wind_X_test = scaler.transform(wind_X_test)\n",
    "\n",
    "# Solar data\n",
    "scaler.fit(solar_X_train)\n",
    "solar_X_train = scaler.transform(solar_X_train)\n",
    "solar_X_test = scaler.transform(solar_X_test)"
   ]
  },
  {
   "cell_type": "markdown",
   "metadata": {},
   "source": [
    "## Training the Models\n",
    "\n",
    "Now that the data is pre-processed accordingly, the models can be trained and fit. Here we are using one hidden layer with three neurons. This is because we have five inputs and two outputs. A good base sees that the number if hidden layers is one, and the neurons in the layer in the mean of the number of input neurons and output neurons."
   ]
  },
  {
   "cell_type": "code",
   "execution_count": null,
   "metadata": {},
   "outputs": [],
   "source": [
    "# Wind network\n",
    "wind_reg = MLPRegressor(solver='lbfgs', hidden_layer_sizes=(3,), random_state=0, max_iter=10000000)\n",
    "wind_reg.fit(wind_X_train,wind_y_train)\n",
    "\n",
    "# Solar network\n",
    "solar_reg = MLPRegressor(solver='lbfgs', hidden_layer_sizes=(3,), random_state=0, max_iter=10000000)\n",
    "solar_reg.fit(solar_X_train,solar_y_train)"
   ]
  },
  {
   "cell_type": "markdown",
   "metadata": {},
   "source": [
    "## Testing the Models\n",
    "\n",
    "With trained models, we can now test them and make predictions."
   ]
  },
  {
   "cell_type": "code",
   "execution_count": 9,
   "metadata": {},
   "outputs": [
    {
     "name": "stdout",
     "output_type": "stream",
     "text": [
      "Predicted outputs for wind data:\n",
      "[[   48471.98659213 20800000.08280838]\n",
      " [   27821.83910046 12999999.49475553]\n",
      " [   64951.41492174 20799999.9461454 ]\n",
      " ...\n",
      " [   46267.09931196 20800000.09463431]\n",
      " [   37284.20825834 15599999.6789072 ]\n",
      " [   60126.02035649 20799999.97129241]]\n",
      "\n",
      "Predicted outputs for solar data:\n",
      "[[2.31356074e+01 2.93817331e+04]\n",
      " [1.08407627e+04 1.32998520e+07]\n",
      " [3.17267784e+01 3.98875099e+04]\n",
      " ...\n",
      " [4.33695709e+06 5.32000006e+09]\n",
      " [1.08418042e+04 1.33000457e+07]\n",
      " [3.20134992e+01 3.99386307e+04]]\n"
     ]
    }
   ],
   "source": [
    "# Wind\n",
    "wind_test = wind_reg.predict(wind_X_test)\n",
    "print(\"Predicted outputs for wind data:\")\n",
    "print(wind_test)\n",
    "print()\n",
    "\n",
    "# Solar\n",
    "solar_test = solar_reg.predict(solar_X_test)\n",
    "print(\"Predicted outputs for solar data:\")\n",
    "print(solar_test)"
   ]
  }
 ],
 "metadata": {
  "kernelspec": {
   "display_name": "Python 3 (ipykernel)",
   "language": "python",
   "name": "python3"
  },
  "language_info": {
   "codemirror_mode": {
    "name": "ipython",
    "version": 3
   },
   "file_extension": ".py",
   "mimetype": "text/x-python",
   "name": "python",
   "nbconvert_exporter": "python",
   "pygments_lexer": "ipython3",
   "version": "3.11.5"
  }
 },
 "nbformat": 4,
 "nbformat_minor": 4
}
