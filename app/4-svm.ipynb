{
 "cells": [
  {
   "cell_type": "raw",
   "metadata": {},
   "source": [
    "---\n",
    "title: \"Support Vector Machines Analysis\"\n",
    "---"
   ]
  },
  {
   "cell_type": "markdown",
   "metadata": {},
   "source": [
    "## Imports"
   ]
  },
  {
   "cell_type": "code",
   "execution_count": 2,
   "metadata": {},
   "outputs": [],
   "source": [
    "import pandas as pd\n",
    "from sklearn import svm\n",
    "from sklearn.preprocessing import StandardScaler"
   ]
  },
  {
   "cell_type": "markdown",
   "metadata": {},
   "source": [
    "## Prep the Data\n",
    "\n",
    "First, we read in the datasets."
   ]
  },
  {
   "cell_type": "code",
   "execution_count": 3,
   "metadata": {},
   "outputs": [
    {
     "name": "stdout",
     "output_type": "stream",
     "text": [
      "Previews of the datasets:\n",
      "   id        lat        long  wind_speed farm_type  capacity  capacity_factor  \\\n",
      "0   0  23.510410 -117.147260        6.07  offshore        16            0.169   \n",
      "1   1  24.007446  -93.946777        7.43  offshore        16            0.302   \n",
      "2   2  25.069138  -97.482483        8.19  offshore        16            0.375   \n",
      "3   3  25.069443  -97.463135        8.19  offshore        16            0.375   \n",
      "4   4  25.069763  -97.443756        8.19  offshore        16            0.376   \n",
      "5   5  25.070091  -97.424377        8.19  offshore        16            0.375   \n",
      "6   6  25.070404  -97.404999        8.19  offshore        16            0.375   \n",
      "7   7  25.086678  -97.482849        8.18  offshore        16            0.375   \n",
      "8   8  25.087006  -97.463470        8.19  offshore        16            0.376   \n",
      "9   9  25.087318  -97.444092        8.19  offshore        16            0.376   \n",
      "\n",
      "   power_generation  estimated_cost  \n",
      "0          23687.04        20800000  \n",
      "1          42328.32        20800000  \n",
      "2          52560.00        20800000  \n",
      "3          52560.00        20800000  \n",
      "4          52700.16        20800000  \n",
      "5          52560.00        20800000  \n",
      "6          52560.00        20800000  \n",
      "7          52560.00        20800000  \n",
      "8          52700.16        20800000  \n",
      "9          52700.16        20800000  \n",
      "_________________________________\n",
      "   id        lat       long  irradiance          farm_type  capacity  \\\n",
      "0   0  25.896492 -97.460358    5.634079    large_community     5.000   \n",
      "1   1  26.032654 -97.738098    5.616413      small_utility     5.000   \n",
      "2   2  26.059063 -97.208252    5.746738    small_community     0.150   \n",
      "3   3  26.078449 -98.073364    5.742196      small_utility     5.000   \n",
      "4   4  26.143227 -98.311340    5.817187      small_utility     5.000   \n",
      "5   5  26.149040 -98.075409    5.701752    large_community     5.000   \n",
      "6   6  26.180355 -97.367737    5.720004     medium_utility   500.000   \n",
      "7   7  26.254963 -98.078491    5.730308  small_residential     0.005   \n",
      "8   8  26.272160 -98.098694    5.734213      large_utility  2000.000   \n",
      "9   9  26.272625 -98.078979    5.755140    small_community     0.150   \n",
      "\n",
      "   capacity_factor  power_generation  estimated_cost  \n",
      "0            0.235      1.028219e+04        13300000  \n",
      "1            0.234      1.024995e+04        13300000  \n",
      "2            0.239      3.146339e+02          399000  \n",
      "3            0.239      1.047951e+04        13300000  \n",
      "4            0.242      1.061637e+04        13300000  \n",
      "5            0.238      1.040570e+04        13300000  \n",
      "6            0.238      1.043901e+06      1330000000  \n",
      "7            0.239      1.045781e+01           13300  \n",
      "8            0.239      4.185975e+06      5320000000  \n",
      "9            0.240      3.150939e+02          399000  \n"
     ]
    }
   ],
   "source": [
    "wind_df = pd.read_csv(\"../data/wind.csv\")\n",
    "solar_df = pd.read_csv(\"../data/solar.csv\")\n",
    "\n",
    "print(\"Previews of the datasets:\")\n",
    "print(wind_df.head(10))\n",
    "print(\"_________________________________\")\n",
    "print(solar_df.head(10))"
   ]
  },
  {
   "cell_type": "markdown",
   "metadata": {},
   "source": [
    "Now, we must shuffle the datasets to reduce bias."
   ]
  },
  {
   "cell_type": "code",
   "execution_count": 4,
   "metadata": {},
   "outputs": [
    {
     "name": "stdout",
     "output_type": "stream",
     "text": [
      "Previews of the shuffled datasets:\n",
      "            id        lat        long  wind_speed farm_type  capacity  \\\n",
      "2538      2538  28.427433  -95.482086        7.43  offshore        16   \n",
      "74685    74685  42.460751  -97.424561        8.70   onshore        16   \n",
      "14832    14832  34.077995 -105.496582        8.78   onshore        16   \n",
      "62697    62697  41.330143  -89.920837        7.48   onshore        16   \n",
      "126102  126102  48.964993 -112.273132        8.37   onshore        16   \n",
      "47952    47952  38.612041 -112.771744        6.21   onshore        10   \n",
      "70149    70149  42.003757  -91.957764        7.48   onshore        14   \n",
      "37703    37703  36.501045 -113.198120        6.94   onshore        16   \n",
      "1669      1669  26.541775  -82.296326        5.95  offshore        16   \n",
      "97832    97832  42.256721  -74.759338        7.23   onshore        10   \n",
      "\n",
      "        capacity_factor  power_generation  estimated_cost  \n",
      "2538              0.311          43589.76        20800000  \n",
      "74685             0.508          71201.28        20800000  \n",
      "14832             0.445          62371.20        20800000  \n",
      "62697             0.409          57325.44        20800000  \n",
      "126102            0.385          53961.60        20800000  \n",
      "47952             0.311          27243.60        13000000  \n",
      "70149             0.415          50895.60        18200000  \n",
      "37703             0.298          41767.68        20800000  \n",
      "1669              0.195          27331.20        20800000  \n",
      "97832             0.424          37142.40        13000000  \n",
      "_________________________________\n",
      "        id        lat        long  irradiance           farm_type  capacity  \\\n",
      "2729  2729  33.916904 -105.451294    6.432974     large_community     5.000   \n",
      "199    199  27.048847  -98.839020    5.774646   large_residential     0.015   \n",
      "2495  2495  33.808910 -105.612885    6.476483       large_utility  2000.000   \n",
      "7049  7049  35.423641 -101.373810    6.163073    medium_community     2.000   \n",
      "3134  3134  34.097244 -105.299377    6.415791   small_residential     0.005   \n",
      "7259  7259  35.172871 -105.227356    6.439467  medium_residential     0.010   \n",
      "5593  5593  35.001354 -104.685379    6.581329   large_residential     0.015   \n",
      "7649  7649  35.608040  -99.783325    5.953158     large_community     5.000   \n",
      "5346  5346  35.027256 -103.721466    6.482349  medium_residential     0.010   \n",
      "1294  1294  30.845142 -103.887756    6.407234       large_utility  2000.000   \n",
      "\n",
      "      capacity_factor  power_generation  estimated_cost  \n",
      "2729            0.268      1.174018e+04        13300000  \n",
      "199             0.241      3.161619e+01           39900  \n",
      "2495            0.270      4.727832e+06      5320000000  \n",
      "7049            0.257      4.499043e+03         5320000  \n",
      "3134            0.267      1.170882e+01           13300  \n",
      "7259            0.268      2.350405e+01           26600  \n",
      "5593            0.274      3.603278e+01           39900  \n",
      "7649            0.248      1.086451e+04        13300000  \n",
      "5346            0.270      2.366058e+01           26600  \n",
      "1294            0.267      4.677281e+06      5320000000  \n"
     ]
    }
   ],
   "source": [
    "wind_df = wind_df.sample(frac=1)\n",
    "solar_df = solar_df.sample(frac=1)\n",
    "\n",
    "print(\"Previews of the shuffled datasets:\")\n",
    "print(wind_df.head(10))\n",
    "print(\"_________________________________\")\n",
    "print(solar_df.head(10))"
   ]
  },
  {
   "cell_type": "markdown",
   "metadata": {},
   "source": [
    "Looking at each dataset, we can identify which variables we want to use for our models. SVM can only handle 1D predictions, so we have to separate the two desired outputs into their own sets."
   ]
  },
  {
   "cell_type": "code",
   "execution_count": 5,
   "metadata": {},
   "outputs": [],
   "source": [
    "# Wind data: energy production\n",
    "wind_X = wind_df.loc[:, [False, True, True, True, False, True, True, False, False]]\n",
    "wind_energy_y = wind_df.loc[:, wind_df.columns[-2]]\n",
    "\n",
    "# Wind data: cost\n",
    "wind_cost_y = wind_df.loc[:, wind_df.columns[-1]]\n",
    "\n",
    "# Solar data: energy production\n",
    "solar_X = solar_df.loc[:, [False, True, True, True, False, True, True, False, False]]\n",
    "solar_energy_y = solar_df.loc[:, solar_df.columns[-2]]\n",
    "\n",
    "# Solar data: cost\n",
    "solar_cost_y = solar_df.loc[:, solar_df.columns[-1]]"
   ]
  },
  {
   "cell_type": "markdown",
   "metadata": {},
   "source": [
    "Now we split into training and testing sets, making sure each output get its own training and testing set, reserving about 80% for training and 20% for testing."
   ]
  },
  {
   "cell_type": "code",
   "execution_count": 6,
   "metadata": {},
   "outputs": [],
   "source": [
    "# Wind data: energy production\n",
    "wind_X_train = wind_X[:100000]\n",
    "wind_X_test = wind_X[100000:]\n",
    "wind_energy_y_train = wind_energy_y[:100000]\n",
    "wind_energy_y_test = wind_energy_y[100000:]\n",
    "\n",
    "# Wind data: cost\n",
    "wind_cost_y_train = wind_cost_y[:100000]\n",
    "wind_cost_y_test = wind_cost_y[100000:]\n",
    "\n",
    "# Solar data: energy production\n",
    "solar_X_train = solar_X[:9500]\n",
    "solar_X_test = solar_X[9500:]\n",
    "solar_energy_y_train = solar_energy_y[:9500]\n",
    "solar_energy_y_test = solar_energy_y[9500:]\n",
    "\n",
    "# Solar data: cost\n",
    "solar_cost_y_train = solar_cost_y[:9500]\n",
    "solar_cost_y_test = solar_cost_y[9500:]"
   ]
  },
  {
   "cell_type": "markdown",
   "metadata": {},
   "source": [
    "Some models perform better when inputs are within a certain range, like [-1, 1] for example. We scale the data points appropriately."
   ]
  },
  {
   "cell_type": "code",
   "execution_count": 7,
   "metadata": {},
   "outputs": [],
   "source": [
    "scaler = StandardScaler()\n",
    "\n",
    "# Wind data\n",
    "scaler.fit(wind_X_train)\n",
    "wind_X_train = scaler.transform(wind_X_train)\n",
    "wind_X_test = scaler.transform(wind_X_test)\n",
    "\n",
    "# Solar data\n",
    "scaler.fit(solar_X_train)\n",
    "solar_X_train = scaler.transform(solar_X_train)\n",
    "solar_X_test = scaler.transform(solar_X_test)"
   ]
  },
  {
   "cell_type": "markdown",
   "metadata": {},
   "source": [
    "## Training the Models\n",
    "\n",
    "Now that the data is pre-processed accordingly, the models can be trained and fit."
   ]
  },
  {
   "cell_type": "code",
   "execution_count": null,
   "metadata": {},
   "outputs": [],
   "source": [
    "# Wind: energy production\n",
    "wind_energy_reg = svm.SVR()\n",
    "wind_energy_reg.fit(wind_X_train, wind_energy_y_train)"
   ]
  },
  {
   "cell_type": "code",
   "execution_count": null,
   "metadata": {},
   "outputs": [],
   "source": [
    "# Wind: cost\n",
    "wind_cost_reg = svm.SVR()\n",
    "wind_cost_reg.fit(wind_X_train, wind_cost_y_train)"
   ]
  },
  {
   "cell_type": "code",
   "execution_count": null,
   "metadata": {},
   "outputs": [],
   "source": [
    "# Solar: energy production\n",
    "solar_energy_reg = svm.SVR()\n",
    "solar_energy_reg.fit(solar_X_train, solar_energy_y_train)"
   ]
  },
  {
   "cell_type": "code",
   "execution_count": null,
   "metadata": {},
   "outputs": [],
   "source": [
    "#Solar: cost\n",
    "solar_cost_reg = svm.SVR()\n",
    "solar_cost_reg.fit(solar_X_train, solar_cost_y_train)"
   ]
  },
  {
   "cell_type": "markdown",
   "metadata": {},
   "source": [
    "## Testing the Models\n",
    "\n",
    "With trained models, we can now test them and make predictions."
   ]
  },
  {
   "cell_type": "code",
   "execution_count": 12,
   "metadata": {},
   "outputs": [
    {
     "name": "stdout",
     "output_type": "stream",
     "text": [
      "Predicted outputs for wind energy data:\n",
      "[43740.47802981 48651.84476318 55644.30161531 ... 57777.52430673\n",
      " 42938.48674883 61054.39411137]\n",
      "\n",
      "Predicted outputs for wind cost data:\n",
      "[20795471.847709   20797202.07397964 20799992.74356124 ...\n",
      " 20799999.44791149 20799860.74038213 20799991.1027435 ]\n",
      "\n",
      "Predicted outputs for solar energy data:\n",
      "[4364.28499731 4821.89196899 4700.30967839 ... 4806.56397471 4758.2968372\n",
      " 4974.2796332 ]\n",
      "\n",
      "Predicted outputs for solar cost data:\n",
      "[5319985.2501513  5320251.04082778 5320328.99546367 ... 5320366.13373715\n",
      " 5320292.87901872 5320344.07807934]\n"
     ]
    }
   ],
   "source": [
    "# Wind: energy production\n",
    "wind_energy_test = wind_energy_reg.predict(wind_X_test)\n",
    "print(\"Predicted outputs for wind energy data:\")\n",
    "print(wind_energy_test)\n",
    "print()\n",
    "\n",
    "# Wind: cost\n",
    "wind_cost_test = wind_cost_reg.predict(wind_X_test)\n",
    "print(\"Predicted outputs for wind cost data:\")\n",
    "print(wind_cost_test)\n",
    "print()\n",
    "\n",
    "# Solar: energy production\n",
    "solar_energy_test = solar_energy_reg.predict(wind_X_test)\n",
    "print(\"Predicted outputs for solar energy data:\")\n",
    "print(solar_energy_test)\n",
    "print()\n",
    "\n",
    "# Solar: cost\n",
    "solar_cost_test = solar_cost_reg.predict(wind_X_test)\n",
    "print(\"Predicted outputs for solar cost data:\")\n",
    "print(solar_cost_test)"
   ]
  }
 ],
 "metadata": {
  "kernelspec": {
   "display_name": "Python 3 (ipykernel)",
   "language": "python",
   "name": "python3"
  },
  "language_info": {
   "codemirror_mode": {
    "name": "ipython",
    "version": 3
   },
   "file_extension": ".py",
   "mimetype": "text/x-python",
   "name": "python",
   "nbconvert_exporter": "python",
   "pygments_lexer": "ipython3",
   "version": "3.11.5"
  }
 },
 "nbformat": 4,
 "nbformat_minor": 4
}
